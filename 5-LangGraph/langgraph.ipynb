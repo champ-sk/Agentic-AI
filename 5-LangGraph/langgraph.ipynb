{
 "cells": [
  {
   "cell_type": "code",
   "execution_count": 1,
   "id": "90425e67",
   "metadata": {},
   "outputs": [
    {
     "name": "stdout",
     "output_type": "stream",
     "text": [
      "hello\n"
     ]
    }
   ],
   "source": [
    "print(\"hello\")"
   ]
  },
  {
   "cell_type": "code",
   "execution_count": 4,
   "id": "c39d15ff",
   "metadata": {},
   "outputs": [
    {
     "name": "stdout",
     "output_type": "stream",
     "text": [
      "Hello! How can I help you today?\n"
     ]
    }
   ],
   "source": [
    "from langchain_google_genai import ChatGoogleGenerativeAI\n",
    "model=ChatGoogleGenerativeAI(model='gemini-2.5-pro')\n",
    "output=model.invoke(\"hi\")\n",
    "print(output.content)"
   ]
  },
  {
   "cell_type": "code",
   "execution_count": 3,
   "id": "1fce82bc",
   "metadata": {},
   "outputs": [
    {
     "name": "stdout",
     "output_type": "stream",
     "text": [
      "Hello! How can I help you today?\n"
     ]
    }
   ],
   "source": [
    "op = model.invoke(\"Hi\")\n",
    "print(op.content)"
   ]
  },
  {
   "cell_type": "code",
   "execution_count": 5,
   "id": "16e5bc59",
   "metadata": {},
   "outputs": [
    {
     "name": "stderr",
     "output_type": "stream",
     "text": [
      "e:\\Agentic-AI-code\\env\\lib\\site-packages\\huggingface_hub\\file_download.py:143: UserWarning: `huggingface_hub` cache-system uses symlinks by default to efficiently store duplicated files but your machine does not support them in C:\\Users\\LENOVO\\.cache\\huggingface\\hub\\models--BAAI--bge-small-en. Caching files will still work but in a degraded version that might require more space on your disk. This warning can be disabled by setting the `HF_HUB_DISABLE_SYMLINKS_WARNING` environment variable. For more details, see https://huggingface.co/docs/huggingface_hub/how-to-cache#limitations.\n",
      "To support symlinks on Windows, you either need to activate Developer Mode or to run Python as an administrator. In order to activate developer mode, see this article: https://docs.microsoft.com/en-us/windows/apps/get-started/enable-your-device-for-development\n",
      "  warnings.warn(message)\n",
      "Xet Storage is enabled for this repo, but the 'hf_xet' package is not installed. Falling back to regular HTTP download. For better performance, install the package with: `pip install huggingface_hub[hf_xet]` or `pip install hf_xet`\n"
     ]
    },
    {
     "data": {
      "text/plain": [
       "384"
      ]
     },
     "execution_count": 5,
     "metadata": {},
     "output_type": "execute_result"
    }
   ],
   "source": [
    "from langchain_huggingface import HuggingFaceEmbeddings\n",
    "embeddings = HuggingFaceEmbeddings(model_name=\"BAAI/bge-small-en\")\n",
    "len(embeddings.embed_query(\"hi\"))"
   ]
  },
  {
   "cell_type": "code",
   "execution_count": 8,
   "id": "42f3155f",
   "metadata": {},
   "outputs": [],
   "source": [
    "from langchain_community.document_loaders import TextLoader, DirectoryLoader\n",
    "from langchain_community.vectorstores import Chroma\n",
    "from langchain_text_splitters import RecursiveCharacterTextSplitter\n"
   ]
  },
  {
   "cell_type": "code",
   "execution_count": 12,
   "id": "2ddfa5ef",
   "metadata": {},
   "outputs": [],
   "source": [
    "loader = DirectoryLoader(\"..\\data\",glob=\"./*.txt\",loader_cls=TextLoader)\n",
    "docs = loader.load()"
   ]
  },
  {
   "cell_type": "code",
   "execution_count": null,
   "id": "903f230f",
   "metadata": {},
   "outputs": [
    {
     "data": {
      "text/plain": [
       "1"
      ]
     },
     "execution_count": 19,
     "metadata": {},
     "output_type": "execute_result"
    }
   ],
   "source": [
    "docs\n"
   ]
  },
  {
   "cell_type": "code",
   "execution_count": null,
   "id": "dce3ff98",
   "metadata": {},
   "outputs": [
    {
     "data": {
      "text/plain": [
       "3798"
      ]
     },
     "execution_count": 20,
     "metadata": {},
     "output_type": "execute_result"
    }
   ],
   "source": [
    "len(docs[0].page_content)"
   ]
  },
  {
   "cell_type": "code",
   "execution_count": 16,
   "id": "790ff07a",
   "metadata": {},
   "outputs": [],
   "source": [
    "text_splitter=RecursiveCharacterTextSplitter(\n",
    "    chunk_size=250,\n",
    "    chunk_overlap=50\n",
    ")"
   ]
  },
  {
   "cell_type": "code",
   "execution_count": 17,
   "id": "65b2b265",
   "metadata": {},
   "outputs": [],
   "source": [
    "new_docs=text_splitter.split_documents(documents=docs)\n"
   ]
  },
  {
   "cell_type": "code",
   "execution_count": 21,
   "id": "8daebefa",
   "metadata": {},
   "outputs": [
    {
     "data": {
      "text/plain": [
       "[Document(metadata={'source': '..\\\\data\\\\india.txt'}, page_content='🇮🇳 Overview of the Indian Economy'),\n",
       " Document(metadata={'source': '..\\\\data\\\\india.txt'}, page_content=\"India, with a population exceeding 1.46 billion, stands as the world's fifth-largest economy by nominal GDP and the third-largest by Purchasing Power Parity (PPP). Operating under a mixed economy, it combines elements of both capitalism and\"),\n",
       " Document(metadata={'source': '..\\\\data\\\\india.txt'}, page_content=\"it combines elements of both capitalism and socialism, with a significant role played by the private sector alongside substantial government involvement in areas like infrastructure, education, and healthcare. India's economy is characterized by a\"),\n",
       " Document(metadata={'source': '..\\\\data\\\\india.txt'}, page_content=\"healthcare. India's economy is characterized by a diverse industrial base, a rapidly growing services sector, and a substantial agricultural output.\"),\n",
       " Document(metadata={'source': '..\\\\data\\\\india.txt'}, page_content='📊 India’s GDP – Size, Composition, and Global Share\\n\\nNominal GDP (FY 2024–25): ₹330.68 lakh crore (~$4.0 trillion USD), reflecting a 9.8% increase from the previous fiscal year.'),\n",
       " Document(metadata={'source': '..\\\\data\\\\india.txt'}, page_content='GDP per capita (2024): $2,698, indicating a moderate standard of living.\\n\\nGDP by Sector (2024–25):\\n\\nServices: 54.93%\\n\\nIndustry: 27.13%\\n\\nAgriculture: 17.94%'),\n",
       " Document(metadata={'source': '..\\\\data\\\\india.txt'}, page_content=\"India's services sector, encompassing IT, finance, and telecommunications, is a significant contributor to its GDP. The industrial sector includes manufacturing, mining, and construction, while agriculture remains a vital part of the economy,\"),\n",
       " Document(metadata={'source': '..\\\\data\\\\india.txt'}, page_content='agriculture remains a vital part of the economy, employing a large portion of the population.'),\n",
       " Document(metadata={'source': '..\\\\data\\\\india.txt'}, page_content='📈 GDP Growth Trends and Dynamics\\n\\nReal GDP Growth (FY 2024–25): 6.5%, down from 9.2% in the previous fiscal year.\\n\\nQuarterly Performance: 7.8% YoY growth in the April–June 2025 quarter.'),\n",
       " Document(metadata={'source': '..\\\\data\\\\india.txt'}, page_content='Inflation: Consumer price inflation stood at 2.82% in May 2025.'),\n",
       " Document(metadata={'source': '..\\\\data\\\\india.txt'}, page_content='The slowdown in growth is attributed to global economic uncertainties, including trade tensions and reduced external demand. However, domestic consumption and government spending continue to support economic activity.\\n\\n🌐 Role in the Global Economy'),\n",
       " Document(metadata={'source': '..\\\\data\\\\india.txt'}, page_content='🌐 Role in the Global Economy\\n\\nIndia plays a crucial role in the global economic landscape:\\n\\nContribution to Global Growth: 17% in 2024, expected to rise to nearly 20% in coming years.\\n\\nTrade: Total exports reached $824.9 billion in FY 2024–25.'),\n",
       " Document(metadata={'source': '..\\\\data\\\\india.txt'}, page_content='Investment: Attracts significant foreign direct investment due to a large consumer market and improving business environment.'),\n",
       " Document(metadata={'source': '..\\\\data\\\\india.txt'}, page_content='India’s strategic position in Asia and its growing economic clout make it a key player in international trade and finance.\\n\\n⚙️ Key Economic Strengths\\n\\nDemographics: Young, expanding workforce.'),\n",
       " Document(metadata={'source': '..\\\\data\\\\india.txt'}, page_content='Demographics: Young, expanding workforce.\\n\\nDigital Economy: Rapid adoption of technology and digital services.\\n\\nInfrastructure Development: Ongoing investments enhance connectivity and productivity.'),\n",
       " Document(metadata={'source': '..\\\\data\\\\india.txt'}, page_content='Financial Sector: Robust banking system and capital markets support economic activities.\\n\\nThese strengths position India well for sustained economic growth despite global challenges.\\n\\n⚠️ Challenges and Structural Issues'),\n",
       " Document(metadata={'source': '..\\\\data\\\\india.txt'}, page_content='⚠️ Challenges and Structural Issues\\n\\nIncome Inequality: Significant disparities in income and wealth distribution.\\n\\nInfrastructure Gaps: Rural and remote areas lag behind.'),\n",
       " Document(metadata={'source': '..\\\\data\\\\india.txt'}, page_content='Environmental Concerns: Pollution and resource depletion threaten sustainability.\\n\\nGeopolitical Tensions: Regional conflicts can impact economic stability.\\n\\nAddressing these issues is crucial for ensuring inclusive and sustainable growth.'),\n",
       " Document(metadata={'source': '..\\\\data\\\\india.txt'}, page_content='🔮 Future Outlook (2025–2030)\\n\\nGrowth Target: 8% annual growth to become a developed economy by 2047.\\n\\nInvestment Goal: Increase investment rate from 31% to 35% of GDP.\\n\\nPolicy Focus: Implement reforms in taxation, labor laws, and infrastructure.'),\n",
       " Document(metadata={'source': '..\\\\data\\\\india.txt'}, page_content='With continued structural reforms and strategic investments, India is poised to strengthen its position as a global economic powerhouse.\\n\\n📝 Final Summary'),\n",
       " Document(metadata={'source': '..\\\\data\\\\india.txt'}, page_content=\"India's economy is characterized by rapid growth, sectoral diversity, and significant global influence. While facing challenges such as income inequality and infrastructure deficits, the country is actively pursuing reforms. With a youthful\"),\n",
       " Document(metadata={'source': '..\\\\data\\\\india.txt'}, page_content=\"is actively pursuing reforms. With a youthful population, expanding digital economy, and strategic policy initiatives, India is on a trajectory toward becoming one of the world's leading economies by 2047.\")]"
      ]
     },
     "execution_count": 21,
     "metadata": {},
     "output_type": "execute_result"
    }
   ],
   "source": [
    "len(new_docs)\n",
    "new_docs"
   ]
  },
  {
   "cell_type": "code",
   "execution_count": 22,
   "id": "90d5a901",
   "metadata": {},
   "outputs": [],
   "source": [
    "doc_string=[doc.page_content for doc in new_docs]\n"
   ]
  },
  {
   "cell_type": "code",
   "execution_count": 23,
   "id": "615bea9f",
   "metadata": {},
   "outputs": [
    {
     "data": {
      "text/plain": [
       "['🇮🇳 Overview of the Indian Economy',\n",
       " \"India, with a population exceeding 1.46 billion, stands as the world's fifth-largest economy by nominal GDP and the third-largest by Purchasing Power Parity (PPP). Operating under a mixed economy, it combines elements of both capitalism and\",\n",
       " \"it combines elements of both capitalism and socialism, with a significant role played by the private sector alongside substantial government involvement in areas like infrastructure, education, and healthcare. India's economy is characterized by a\",\n",
       " \"healthcare. India's economy is characterized by a diverse industrial base, a rapidly growing services sector, and a substantial agricultural output.\",\n",
       " '📊 India’s GDP – Size, Composition, and Global Share\\n\\nNominal GDP (FY 2024–25): ₹330.68 lakh crore (~$4.0 trillion USD), reflecting a 9.8% increase from the previous fiscal year.',\n",
       " 'GDP per capita (2024): $2,698, indicating a moderate standard of living.\\n\\nGDP by Sector (2024–25):\\n\\nServices: 54.93%\\n\\nIndustry: 27.13%\\n\\nAgriculture: 17.94%',\n",
       " \"India's services sector, encompassing IT, finance, and telecommunications, is a significant contributor to its GDP. The industrial sector includes manufacturing, mining, and construction, while agriculture remains a vital part of the economy,\",\n",
       " 'agriculture remains a vital part of the economy, employing a large portion of the population.',\n",
       " '📈 GDP Growth Trends and Dynamics\\n\\nReal GDP Growth (FY 2024–25): 6.5%, down from 9.2% in the previous fiscal year.\\n\\nQuarterly Performance: 7.8% YoY growth in the April–June 2025 quarter.',\n",
       " 'Inflation: Consumer price inflation stood at 2.82% in May 2025.',\n",
       " 'The slowdown in growth is attributed to global economic uncertainties, including trade tensions and reduced external demand. However, domestic consumption and government spending continue to support economic activity.\\n\\n🌐 Role in the Global Economy',\n",
       " '🌐 Role in the Global Economy\\n\\nIndia plays a crucial role in the global economic landscape:\\n\\nContribution to Global Growth: 17% in 2024, expected to rise to nearly 20% in coming years.\\n\\nTrade: Total exports reached $824.9 billion in FY 2024–25.',\n",
       " 'Investment: Attracts significant foreign direct investment due to a large consumer market and improving business environment.',\n",
       " 'India’s strategic position in Asia and its growing economic clout make it a key player in international trade and finance.\\n\\n⚙️ Key Economic Strengths\\n\\nDemographics: Young, expanding workforce.',\n",
       " 'Demographics: Young, expanding workforce.\\n\\nDigital Economy: Rapid adoption of technology and digital services.\\n\\nInfrastructure Development: Ongoing investments enhance connectivity and productivity.',\n",
       " 'Financial Sector: Robust banking system and capital markets support economic activities.\\n\\nThese strengths position India well for sustained economic growth despite global challenges.\\n\\n⚠️ Challenges and Structural Issues',\n",
       " '⚠️ Challenges and Structural Issues\\n\\nIncome Inequality: Significant disparities in income and wealth distribution.\\n\\nInfrastructure Gaps: Rural and remote areas lag behind.',\n",
       " 'Environmental Concerns: Pollution and resource depletion threaten sustainability.\\n\\nGeopolitical Tensions: Regional conflicts can impact economic stability.\\n\\nAddressing these issues is crucial for ensuring inclusive and sustainable growth.',\n",
       " '🔮 Future Outlook (2025–2030)\\n\\nGrowth Target: 8% annual growth to become a developed economy by 2047.\\n\\nInvestment Goal: Increase investment rate from 31% to 35% of GDP.\\n\\nPolicy Focus: Implement reforms in taxation, labor laws, and infrastructure.',\n",
       " 'With continued structural reforms and strategic investments, India is poised to strengthen its position as a global economic powerhouse.\\n\\n📝 Final Summary',\n",
       " \"India's economy is characterized by rapid growth, sectoral diversity, and significant global influence. While facing challenges such as income inequality and infrastructure deficits, the country is actively pursuing reforms. With a youthful\",\n",
       " \"is actively pursuing reforms. With a youthful population, expanding digital economy, and strategic policy initiatives, India is on a trajectory toward becoming one of the world's leading economies by 2047.\"]"
      ]
     },
     "execution_count": 23,
     "metadata": {},
     "output_type": "execute_result"
    }
   ],
   "source": [
    "doc_string"
   ]
  },
  {
   "cell_type": "code",
   "execution_count": 24,
   "id": "b5c78918",
   "metadata": {},
   "outputs": [
    {
     "data": {
      "text/plain": [
       "22"
      ]
     },
     "execution_count": 24,
     "metadata": {},
     "output_type": "execute_result"
    }
   ],
   "source": [
    "len(doc_string)\n"
   ]
  },
  {
   "cell_type": "code",
   "execution_count": 26,
   "id": "c06572f0",
   "metadata": {},
   "outputs": [],
   "source": [
    "db=Chroma.from_documents(new_docs,embeddings)\n"
   ]
  },
  {
   "cell_type": "code",
   "execution_count": 27,
   "id": "28808481",
   "metadata": {},
   "outputs": [],
   "source": [
    "retriever = db.as_retriever(search_kwargs={\"k\":3})\n"
   ]
  },
  {
   "cell_type": "code",
   "execution_count": 28,
   "id": "6798891c",
   "metadata": {},
   "outputs": [
    {
     "data": {
      "text/plain": [
       "[Document(metadata={'source': '..\\\\data\\\\india.txt'}, page_content='🇮🇳 Overview of the Indian Economy'),\n",
       " Document(metadata={'source': '..\\\\data\\\\india.txt'}, page_content=\"India's services sector, encompassing IT, finance, and telecommunications, is a significant contributor to its GDP. The industrial sector includes manufacturing, mining, and construction, while agriculture remains a vital part of the economy,\"),\n",
       " Document(metadata={'source': '..\\\\data\\\\india.txt'}, page_content='With continued structural reforms and strategic investments, India is poised to strengthen its position as a global economic powerhouse.\\n\\n📝 Final Summary')]"
      ]
     },
     "execution_count": 28,
     "metadata": {},
     "output_type": "execute_result"
    }
   ],
   "source": [
    "retriever.invoke(\"industrial growth of India?\")\n"
   ]
  },
  {
   "cell_type": "markdown",
   "id": "05d39af9",
   "metadata": {},
   "source": [
    "Till thgis point I have setup initial RAG pipeline with LLM, embeddings, and Chroma retriever\n",
    "\n",
    "- Initialized Google Gemini 2.5 Pro model using ChatGoogleGenerativeAI\n",
    "- Created Hugging Face embeddings (BAAI/bge-small-en)\n",
    "- Loaded and split documents using TextLoader / DirectoryLoader and RecursiveCharacterTextSplitter\n",
    "- Stored embeddings in Chroma DB\n",
    "- Created a retriever for search over document chunks\n"
   ]
  },
  {
   "cell_type": "code",
   "execution_count": null,
   "id": "be802975",
   "metadata": {},
   "outputs": [],
   "source": []
  }
 ],
 "metadata": {
  "kernelspec": {
   "display_name": "Python 3",
   "language": "python",
   "name": "python3"
  },
  "language_info": {
   "codemirror_mode": {
    "name": "ipython",
    "version": 3
   },
   "file_extension": ".py",
   "mimetype": "text/x-python",
   "name": "python",
   "nbconvert_exporter": "python",
   "pygments_lexer": "ipython3",
   "version": "3.10.19"
  }
 },
 "nbformat": 4,
 "nbformat_minor": 5
}
