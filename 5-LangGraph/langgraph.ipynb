{
 "cells": [
  {
   "cell_type": "code",
   "execution_count": 131,
   "id": "90425e67",
   "metadata": {},
   "outputs": [
    {
     "name": "stdout",
     "output_type": "stream",
     "text": [
      "hello\n"
     ]
    }
   ],
   "source": [
    "print(\"hello\")"
   ]
  },
  {
   "cell_type": "code",
   "execution_count": 132,
   "id": "c39d15ff",
   "metadata": {},
   "outputs": [
    {
     "name": "stdout",
     "output_type": "stream",
     "text": [
      "Hello! How can I help you today?\n"
     ]
    }
   ],
   "source": [
    "from langchain_google_genai import ChatGoogleGenerativeAI\n",
    "model=ChatGoogleGenerativeAI(model='gemini-2.5-pro')\n",
    "output=model.invoke(\"hi\")\n",
    "print(output.content)"
   ]
  },
  {
   "cell_type": "code",
   "execution_count": 133,
   "id": "1fce82bc",
   "metadata": {},
   "outputs": [
    {
     "name": "stderr",
     "output_type": "stream",
     "text": [
      "Retrying langchain_google_genai.chat_models._chat_with_retry.<locals>._chat_with_retry in 2.0 seconds as it raised ResourceExhausted: 429 You exceeded your current quota, please check your plan and billing details. For more information on this error, head to: https://ai.google.dev/gemini-api/docs/rate-limits. To monitor your current usage, head to: https://ai.dev/usage?tab=rate-limit. \n",
      "* Quota exceeded for metric: generativelanguage.googleapis.com/generate_content_free_tier_requests, limit: 2\n",
      "Please retry in 55.505004816s. [violations {\n",
      "  quota_metric: \"generativelanguage.googleapis.com/generate_content_free_tier_requests\"\n",
      "  quota_id: \"GenerateRequestsPerMinutePerProjectPerModel-FreeTier\"\n",
      "  quota_dimensions {\n",
      "    key: \"model\"\n",
      "    value: \"gemini-2.5-pro\"\n",
      "  }\n",
      "  quota_dimensions {\n",
      "    key: \"location\"\n",
      "    value: \"global\"\n",
      "  }\n",
      "  quota_value: 2\n",
      "}\n",
      ", links {\n",
      "  description: \"Learn more about Gemini API quotas\"\n",
      "  url: \"https://ai.google.dev/gemini-api/docs/rate-limits\"\n",
      "}\n",
      ", retry_delay {\n",
      "  seconds: 55\n",
      "}\n",
      "].\n",
      "Retrying langchain_google_genai.chat_models._chat_with_retry.<locals>._chat_with_retry in 4.0 seconds as it raised ResourceExhausted: 429 You exceeded your current quota, please check your plan and billing details. For more information on this error, head to: https://ai.google.dev/gemini-api/docs/rate-limits. To monitor your current usage, head to: https://ai.dev/usage?tab=rate-limit. \n",
      "* Quota exceeded for metric: generativelanguage.googleapis.com/generate_content_free_tier_requests, limit: 2\n",
      "Please retry in 53.215700765s. [violations {\n",
      "  quota_metric: \"generativelanguage.googleapis.com/generate_content_free_tier_requests\"\n",
      "  quota_id: \"GenerateRequestsPerMinutePerProjectPerModel-FreeTier\"\n",
      "  quota_dimensions {\n",
      "    key: \"model\"\n",
      "    value: \"gemini-2.5-pro\"\n",
      "  }\n",
      "  quota_dimensions {\n",
      "    key: \"location\"\n",
      "    value: \"global\"\n",
      "  }\n",
      "  quota_value: 2\n",
      "}\n",
      ", links {\n",
      "  description: \"Learn more about Gemini API quotas\"\n",
      "  url: \"https://ai.google.dev/gemini-api/docs/rate-limits\"\n",
      "}\n",
      ", retry_delay {\n",
      "  seconds: 53\n",
      "}\n",
      "].\n",
      "Retrying langchain_google_genai.chat_models._chat_with_retry.<locals>._chat_with_retry in 8.0 seconds as it raised ResourceExhausted: 429 You exceeded your current quota, please check your plan and billing details. For more information on this error, head to: https://ai.google.dev/gemini-api/docs/rate-limits. To monitor your current usage, head to: https://ai.dev/usage?tab=rate-limit. \n",
      "* Quota exceeded for metric: generativelanguage.googleapis.com/generate_content_free_tier_requests, limit: 2\n",
      "Please retry in 47.538927562s. [violations {\n",
      "  quota_metric: \"generativelanguage.googleapis.com/generate_content_free_tier_requests\"\n",
      "  quota_id: \"GenerateRequestsPerMinutePerProjectPerModel-FreeTier\"\n",
      "  quota_dimensions {\n",
      "    key: \"model\"\n",
      "    value: \"gemini-2.5-pro\"\n",
      "  }\n",
      "  quota_dimensions {\n",
      "    key: \"location\"\n",
      "    value: \"global\"\n",
      "  }\n",
      "  quota_value: 2\n",
      "}\n",
      ", links {\n",
      "  description: \"Learn more about Gemini API quotas\"\n",
      "  url: \"https://ai.google.dev/gemini-api/docs/rate-limits\"\n",
      "}\n",
      ", retry_delay {\n",
      "  seconds: 47\n",
      "}\n",
      "].\n",
      "Retrying langchain_google_genai.chat_models._chat_with_retry.<locals>._chat_with_retry in 16.0 seconds as it raised ResourceExhausted: 429 You exceeded your current quota, please check your plan and billing details. For more information on this error, head to: https://ai.google.dev/gemini-api/docs/rate-limits. To monitor your current usage, head to: https://ai.dev/usage?tab=rate-limit. \n",
      "* Quota exceeded for metric: generativelanguage.googleapis.com/generate_content_free_tier_requests, limit: 2\n",
      "Please retry in 39.248105601s. [violations {\n",
      "  quota_metric: \"generativelanguage.googleapis.com/generate_content_free_tier_requests\"\n",
      "  quota_id: \"GenerateRequestsPerMinutePerProjectPerModel-FreeTier\"\n",
      "  quota_dimensions {\n",
      "    key: \"model\"\n",
      "    value: \"gemini-2.5-pro\"\n",
      "  }\n",
      "  quota_dimensions {\n",
      "    key: \"location\"\n",
      "    value: \"global\"\n",
      "  }\n",
      "  quota_value: 2\n",
      "}\n",
      ", links {\n",
      "  description: \"Learn more about Gemini API quotas\"\n",
      "  url: \"https://ai.google.dev/gemini-api/docs/rate-limits\"\n",
      "}\n",
      ", retry_delay {\n",
      "  seconds: 39\n",
      "}\n",
      "].\n",
      "Retrying langchain_google_genai.chat_models._chat_with_retry.<locals>._chat_with_retry in 32.0 seconds as it raised ResourceExhausted: 429 You exceeded your current quota, please check your plan and billing details. For more information on this error, head to: https://ai.google.dev/gemini-api/docs/rate-limits. To monitor your current usage, head to: https://ai.dev/usage?tab=rate-limit. \n",
      "* Quota exceeded for metric: generativelanguage.googleapis.com/generate_content_free_tier_requests, limit: 2\n",
      "Please retry in 22.85349649s. [violations {\n",
      "  quota_metric: \"generativelanguage.googleapis.com/generate_content_free_tier_requests\"\n",
      "  quota_id: \"GenerateRequestsPerMinutePerProjectPerModel-FreeTier\"\n",
      "  quota_dimensions {\n",
      "    key: \"model\"\n",
      "    value: \"gemini-2.5-pro\"\n",
      "  }\n",
      "  quota_dimensions {\n",
      "    key: \"location\"\n",
      "    value: \"global\"\n",
      "  }\n",
      "  quota_value: 2\n",
      "}\n",
      ", links {\n",
      "  description: \"Learn more about Gemini API quotas\"\n",
      "  url: \"https://ai.google.dev/gemini-api/docs/rate-limits\"\n",
      "}\n",
      ", retry_delay {\n",
      "  seconds: 22\n",
      "}\n",
      "].\n"
     ]
    },
    {
     "name": "stdout",
     "output_type": "stream",
     "text": [
      "Hello! How can I help you today?\n"
     ]
    }
   ],
   "source": [
    "op = model.invoke(\"Hi\")\n",
    "print(op.content)"
   ]
  },
  {
   "cell_type": "code",
   "execution_count": 134,
   "id": "16e5bc59",
   "metadata": {},
   "outputs": [
    {
     "data": {
      "text/plain": [
       "384"
      ]
     },
     "execution_count": 134,
     "metadata": {},
     "output_type": "execute_result"
    }
   ],
   "source": [
    "from langchain_huggingface import HuggingFaceEmbeddings\n",
    "embeddings = HuggingFaceEmbeddings(model_name=\"BAAI/bge-small-en\")\n",
    "len(embeddings.embed_query(\"hi\"))"
   ]
  },
  {
   "cell_type": "code",
   "execution_count": 135,
   "id": "42f3155f",
   "metadata": {},
   "outputs": [],
   "source": [
    "from langchain_community.document_loaders import TextLoader, DirectoryLoader\n",
    "from langchain_community.vectorstores import Chroma\n",
    "from langchain_text_splitters import RecursiveCharacterTextSplitter\n"
   ]
  },
  {
   "cell_type": "code",
   "execution_count": 136,
   "id": "2ddfa5ef",
   "metadata": {},
   "outputs": [],
   "source": [
    "loader = DirectoryLoader(\"..\\data\",glob=\"./*.txt\",loader_cls=TextLoader)\n",
    "docs = loader.load()"
   ]
  },
  {
   "cell_type": "code",
   "execution_count": 137,
   "id": "903f230f",
   "metadata": {},
   "outputs": [
    {
     "data": {
      "text/plain": [
       "[Document(metadata={'source': '..\\\\data\\\\india.txt'}, page_content=\"🇮🇳 Overview of the Indian Economy\\n\\nIndia, with a population exceeding 1.46 billion, stands as the world's fifth-largest economy by nominal GDP and the third-largest by Purchasing Power Parity (PPP). Operating under a mixed economy, it combines elements of both capitalism and socialism, with a significant role played by the private sector alongside substantial government involvement in areas like infrastructure, education, and healthcare. India's economy is characterized by a diverse industrial base, a rapidly growing services sector, and a substantial agricultural output.\\n\\n📊 India’s GDP – Size, Composition, and Global Share\\n\\nNominal GDP (FY 2024–25): ₹330.68 lakh crore (~$4.0 trillion USD), reflecting a 9.8% increase from the previous fiscal year.\\n\\nGDP per capita (2024): $2,698, indicating a moderate standard of living.\\n\\nGDP by Sector (2024–25):\\n\\nServices: 54.93%\\n\\nIndustry: 27.13%\\n\\nAgriculture: 17.94%\\n\\nIndia's services sector, encompassing IT, finance, and telecommunications, is a significant contributor to its GDP. The industrial sector includes manufacturing, mining, and construction, while agriculture remains a vital part of the economy, employing a large portion of the population.\\n\\n📈 GDP Growth Trends and Dynamics\\n\\nReal GDP Growth (FY 2024–25): 6.5%, down from 9.2% in the previous fiscal year.\\n\\nQuarterly Performance: 7.8% YoY growth in the April–June 2025 quarter.\\n\\nInflation: Consumer price inflation stood at 2.82% in May 2025.\\n\\nThe slowdown in growth is attributed to global economic uncertainties, including trade tensions and reduced external demand. However, domestic consumption and government spending continue to support economic activity.\\n\\n🌐 Role in the Global Economy\\n\\nIndia plays a crucial role in the global economic landscape:\\n\\nContribution to Global Growth: 17% in 2024, expected to rise to nearly 20% in coming years.\\n\\nTrade: Total exports reached $824.9 billion in FY 2024–25.\\n\\nInvestment: Attracts significant foreign direct investment due to a large consumer market and improving business environment.\\n\\nIndia’s strategic position in Asia and its growing economic clout make it a key player in international trade and finance.\\n\\n⚙️ Key Economic Strengths\\n\\nDemographics: Young, expanding workforce.\\n\\nDigital Economy: Rapid adoption of technology and digital services.\\n\\nInfrastructure Development: Ongoing investments enhance connectivity and productivity.\\n\\nFinancial Sector: Robust banking system and capital markets support economic activities.\\n\\nThese strengths position India well for sustained economic growth despite global challenges.\\n\\n⚠️ Challenges and Structural Issues\\n\\nIncome Inequality: Significant disparities in income and wealth distribution.\\n\\nInfrastructure Gaps: Rural and remote areas lag behind.\\n\\nEnvironmental Concerns: Pollution and resource depletion threaten sustainability.\\n\\nGeopolitical Tensions: Regional conflicts can impact economic stability.\\n\\nAddressing these issues is crucial for ensuring inclusive and sustainable growth.\\n\\n🔮 Future Outlook (2025–2030)\\n\\nGrowth Target: 8% annual growth to become a developed economy by 2047.\\n\\nInvestment Goal: Increase investment rate from 31% to 35% of GDP.\\n\\nPolicy Focus: Implement reforms in taxation, labor laws, and infrastructure.\\n\\nWith continued structural reforms and strategic investments, India is poised to strengthen its position as a global economic powerhouse.\\n\\n📝 Final Summary\\n\\nIndia's economy is characterized by rapid growth, sectoral diversity, and significant global influence. While facing challenges such as income inequality and infrastructure deficits, the country is actively pursuing reforms. With a youthful population, expanding digital economy, and strategic policy initiatives, India is on a trajectory toward becoming one of the world's leading economies by 2047.\")]"
      ]
     },
     "execution_count": 137,
     "metadata": {},
     "output_type": "execute_result"
    }
   ],
   "source": [
    "docs\n"
   ]
  },
  {
   "cell_type": "code",
   "execution_count": 138,
   "id": "dce3ff98",
   "metadata": {},
   "outputs": [
    {
     "data": {
      "text/plain": [
       "3798"
      ]
     },
     "execution_count": 138,
     "metadata": {},
     "output_type": "execute_result"
    }
   ],
   "source": [
    "len(docs[0].page_content)"
   ]
  },
  {
   "cell_type": "code",
   "execution_count": 139,
   "id": "790ff07a",
   "metadata": {},
   "outputs": [],
   "source": [
    "text_splitter=RecursiveCharacterTextSplitter(\n",
    "    chunk_size=250,\n",
    "    chunk_overlap=50\n",
    ")"
   ]
  },
  {
   "cell_type": "code",
   "execution_count": 140,
   "id": "65b2b265",
   "metadata": {},
   "outputs": [],
   "source": [
    "new_docs=text_splitter.split_documents(documents=docs)\n"
   ]
  },
  {
   "cell_type": "code",
   "execution_count": 141,
   "id": "8daebefa",
   "metadata": {},
   "outputs": [
    {
     "data": {
      "text/plain": [
       "[Document(metadata={'source': '..\\\\data\\\\india.txt'}, page_content='🇮🇳 Overview of the Indian Economy'),\n",
       " Document(metadata={'source': '..\\\\data\\\\india.txt'}, page_content=\"India, with a population exceeding 1.46 billion, stands as the world's fifth-largest economy by nominal GDP and the third-largest by Purchasing Power Parity (PPP). Operating under a mixed economy, it combines elements of both capitalism and\"),\n",
       " Document(metadata={'source': '..\\\\data\\\\india.txt'}, page_content=\"it combines elements of both capitalism and socialism, with a significant role played by the private sector alongside substantial government involvement in areas like infrastructure, education, and healthcare. India's economy is characterized by a\"),\n",
       " Document(metadata={'source': '..\\\\data\\\\india.txt'}, page_content=\"healthcare. India's economy is characterized by a diverse industrial base, a rapidly growing services sector, and a substantial agricultural output.\"),\n",
       " Document(metadata={'source': '..\\\\data\\\\india.txt'}, page_content='📊 India’s GDP – Size, Composition, and Global Share\\n\\nNominal GDP (FY 2024–25): ₹330.68 lakh crore (~$4.0 trillion USD), reflecting a 9.8% increase from the previous fiscal year.'),\n",
       " Document(metadata={'source': '..\\\\data\\\\india.txt'}, page_content='GDP per capita (2024): $2,698, indicating a moderate standard of living.\\n\\nGDP by Sector (2024–25):\\n\\nServices: 54.93%\\n\\nIndustry: 27.13%\\n\\nAgriculture: 17.94%'),\n",
       " Document(metadata={'source': '..\\\\data\\\\india.txt'}, page_content=\"India's services sector, encompassing IT, finance, and telecommunications, is a significant contributor to its GDP. The industrial sector includes manufacturing, mining, and construction, while agriculture remains a vital part of the economy,\"),\n",
       " Document(metadata={'source': '..\\\\data\\\\india.txt'}, page_content='agriculture remains a vital part of the economy, employing a large portion of the population.'),\n",
       " Document(metadata={'source': '..\\\\data\\\\india.txt'}, page_content='📈 GDP Growth Trends and Dynamics\\n\\nReal GDP Growth (FY 2024–25): 6.5%, down from 9.2% in the previous fiscal year.\\n\\nQuarterly Performance: 7.8% YoY growth in the April–June 2025 quarter.'),\n",
       " Document(metadata={'source': '..\\\\data\\\\india.txt'}, page_content='Inflation: Consumer price inflation stood at 2.82% in May 2025.'),\n",
       " Document(metadata={'source': '..\\\\data\\\\india.txt'}, page_content='The slowdown in growth is attributed to global economic uncertainties, including trade tensions and reduced external demand. However, domestic consumption and government spending continue to support economic activity.\\n\\n🌐 Role in the Global Economy'),\n",
       " Document(metadata={'source': '..\\\\data\\\\india.txt'}, page_content='🌐 Role in the Global Economy\\n\\nIndia plays a crucial role in the global economic landscape:\\n\\nContribution to Global Growth: 17% in 2024, expected to rise to nearly 20% in coming years.\\n\\nTrade: Total exports reached $824.9 billion in FY 2024–25.'),\n",
       " Document(metadata={'source': '..\\\\data\\\\india.txt'}, page_content='Investment: Attracts significant foreign direct investment due to a large consumer market and improving business environment.'),\n",
       " Document(metadata={'source': '..\\\\data\\\\india.txt'}, page_content='India’s strategic position in Asia and its growing economic clout make it a key player in international trade and finance.\\n\\n⚙️ Key Economic Strengths\\n\\nDemographics: Young, expanding workforce.'),\n",
       " Document(metadata={'source': '..\\\\data\\\\india.txt'}, page_content='Demographics: Young, expanding workforce.\\n\\nDigital Economy: Rapid adoption of technology and digital services.\\n\\nInfrastructure Development: Ongoing investments enhance connectivity and productivity.'),\n",
       " Document(metadata={'source': '..\\\\data\\\\india.txt'}, page_content='Financial Sector: Robust banking system and capital markets support economic activities.\\n\\nThese strengths position India well for sustained economic growth despite global challenges.\\n\\n⚠️ Challenges and Structural Issues'),\n",
       " Document(metadata={'source': '..\\\\data\\\\india.txt'}, page_content='⚠️ Challenges and Structural Issues\\n\\nIncome Inequality: Significant disparities in income and wealth distribution.\\n\\nInfrastructure Gaps: Rural and remote areas lag behind.'),\n",
       " Document(metadata={'source': '..\\\\data\\\\india.txt'}, page_content='Environmental Concerns: Pollution and resource depletion threaten sustainability.\\n\\nGeopolitical Tensions: Regional conflicts can impact economic stability.\\n\\nAddressing these issues is crucial for ensuring inclusive and sustainable growth.'),\n",
       " Document(metadata={'source': '..\\\\data\\\\india.txt'}, page_content='🔮 Future Outlook (2025–2030)\\n\\nGrowth Target: 8% annual growth to become a developed economy by 2047.\\n\\nInvestment Goal: Increase investment rate from 31% to 35% of GDP.\\n\\nPolicy Focus: Implement reforms in taxation, labor laws, and infrastructure.'),\n",
       " Document(metadata={'source': '..\\\\data\\\\india.txt'}, page_content='With continued structural reforms and strategic investments, India is poised to strengthen its position as a global economic powerhouse.\\n\\n📝 Final Summary'),\n",
       " Document(metadata={'source': '..\\\\data\\\\india.txt'}, page_content=\"India's economy is characterized by rapid growth, sectoral diversity, and significant global influence. While facing challenges such as income inequality and infrastructure deficits, the country is actively pursuing reforms. With a youthful\"),\n",
       " Document(metadata={'source': '..\\\\data\\\\india.txt'}, page_content=\"is actively pursuing reforms. With a youthful population, expanding digital economy, and strategic policy initiatives, India is on a trajectory toward becoming one of the world's leading economies by 2047.\")]"
      ]
     },
     "execution_count": 141,
     "metadata": {},
     "output_type": "execute_result"
    }
   ],
   "source": [
    "len(new_docs)\n",
    "new_docs"
   ]
  },
  {
   "cell_type": "code",
   "execution_count": 142,
   "id": "90d5a901",
   "metadata": {},
   "outputs": [],
   "source": [
    "doc_string=[doc.page_content for doc in new_docs]\n"
   ]
  },
  {
   "cell_type": "code",
   "execution_count": 143,
   "id": "615bea9f",
   "metadata": {},
   "outputs": [
    {
     "data": {
      "text/plain": [
       "['🇮🇳 Overview of the Indian Economy',\n",
       " \"India, with a population exceeding 1.46 billion, stands as the world's fifth-largest economy by nominal GDP and the third-largest by Purchasing Power Parity (PPP). Operating under a mixed economy, it combines elements of both capitalism and\",\n",
       " \"it combines elements of both capitalism and socialism, with a significant role played by the private sector alongside substantial government involvement in areas like infrastructure, education, and healthcare. India's economy is characterized by a\",\n",
       " \"healthcare. India's economy is characterized by a diverse industrial base, a rapidly growing services sector, and a substantial agricultural output.\",\n",
       " '📊 India’s GDP – Size, Composition, and Global Share\\n\\nNominal GDP (FY 2024–25): ₹330.68 lakh crore (~$4.0 trillion USD), reflecting a 9.8% increase from the previous fiscal year.',\n",
       " 'GDP per capita (2024): $2,698, indicating a moderate standard of living.\\n\\nGDP by Sector (2024–25):\\n\\nServices: 54.93%\\n\\nIndustry: 27.13%\\n\\nAgriculture: 17.94%',\n",
       " \"India's services sector, encompassing IT, finance, and telecommunications, is a significant contributor to its GDP. The industrial sector includes manufacturing, mining, and construction, while agriculture remains a vital part of the economy,\",\n",
       " 'agriculture remains a vital part of the economy, employing a large portion of the population.',\n",
       " '📈 GDP Growth Trends and Dynamics\\n\\nReal GDP Growth (FY 2024–25): 6.5%, down from 9.2% in the previous fiscal year.\\n\\nQuarterly Performance: 7.8% YoY growth in the April–June 2025 quarter.',\n",
       " 'Inflation: Consumer price inflation stood at 2.82% in May 2025.',\n",
       " 'The slowdown in growth is attributed to global economic uncertainties, including trade tensions and reduced external demand. However, domestic consumption and government spending continue to support economic activity.\\n\\n🌐 Role in the Global Economy',\n",
       " '🌐 Role in the Global Economy\\n\\nIndia plays a crucial role in the global economic landscape:\\n\\nContribution to Global Growth: 17% in 2024, expected to rise to nearly 20% in coming years.\\n\\nTrade: Total exports reached $824.9 billion in FY 2024–25.',\n",
       " 'Investment: Attracts significant foreign direct investment due to a large consumer market and improving business environment.',\n",
       " 'India’s strategic position in Asia and its growing economic clout make it a key player in international trade and finance.\\n\\n⚙️ Key Economic Strengths\\n\\nDemographics: Young, expanding workforce.',\n",
       " 'Demographics: Young, expanding workforce.\\n\\nDigital Economy: Rapid adoption of technology and digital services.\\n\\nInfrastructure Development: Ongoing investments enhance connectivity and productivity.',\n",
       " 'Financial Sector: Robust banking system and capital markets support economic activities.\\n\\nThese strengths position India well for sustained economic growth despite global challenges.\\n\\n⚠️ Challenges and Structural Issues',\n",
       " '⚠️ Challenges and Structural Issues\\n\\nIncome Inequality: Significant disparities in income and wealth distribution.\\n\\nInfrastructure Gaps: Rural and remote areas lag behind.',\n",
       " 'Environmental Concerns: Pollution and resource depletion threaten sustainability.\\n\\nGeopolitical Tensions: Regional conflicts can impact economic stability.\\n\\nAddressing these issues is crucial for ensuring inclusive and sustainable growth.',\n",
       " '🔮 Future Outlook (2025–2030)\\n\\nGrowth Target: 8% annual growth to become a developed economy by 2047.\\n\\nInvestment Goal: Increase investment rate from 31% to 35% of GDP.\\n\\nPolicy Focus: Implement reforms in taxation, labor laws, and infrastructure.',\n",
       " 'With continued structural reforms and strategic investments, India is poised to strengthen its position as a global economic powerhouse.\\n\\n📝 Final Summary',\n",
       " \"India's economy is characterized by rapid growth, sectoral diversity, and significant global influence. While facing challenges such as income inequality and infrastructure deficits, the country is actively pursuing reforms. With a youthful\",\n",
       " \"is actively pursuing reforms. With a youthful population, expanding digital economy, and strategic policy initiatives, India is on a trajectory toward becoming one of the world's leading economies by 2047.\"]"
      ]
     },
     "execution_count": 143,
     "metadata": {},
     "output_type": "execute_result"
    }
   ],
   "source": [
    "doc_string"
   ]
  },
  {
   "cell_type": "code",
   "execution_count": 144,
   "id": "b5c78918",
   "metadata": {},
   "outputs": [
    {
     "data": {
      "text/plain": [
       "22"
      ]
     },
     "execution_count": 144,
     "metadata": {},
     "output_type": "execute_result"
    }
   ],
   "source": [
    "len(doc_string)\n"
   ]
  },
  {
   "cell_type": "code",
   "execution_count": 145,
   "id": "c06572f0",
   "metadata": {},
   "outputs": [],
   "source": [
    "db=Chroma.from_documents(new_docs,embeddings)\n"
   ]
  },
  {
   "cell_type": "code",
   "execution_count": 146,
   "id": "28808481",
   "metadata": {},
   "outputs": [],
   "source": [
    "retriever = db.as_retriever(search_kwargs={\"k\":3})\n"
   ]
  },
  {
   "cell_type": "code",
   "execution_count": 147,
   "id": "6798891c",
   "metadata": {},
   "outputs": [
    {
     "data": {
      "text/plain": [
       "[Document(metadata={'source': '..\\\\data\\\\india.txt'}, page_content='🇮🇳 Overview of the Indian Economy'),\n",
       " Document(metadata={'source': '..\\\\data\\\\india.txt'}, page_content='🇮🇳 Overview of the Indian Economy'),\n",
       " Document(metadata={'source': '..\\\\data\\\\india.txt'}, page_content='🇮🇳 Overview of the Indian Economy')]"
      ]
     },
     "execution_count": 147,
     "metadata": {},
     "output_type": "execute_result"
    }
   ],
   "source": [
    "retriever.invoke(\"industrial growth of India?\")\n"
   ]
  },
  {
   "cell_type": "markdown",
   "id": "05d39af9",
   "metadata": {},
   "source": [
    "Till thgis point I have setup initial RAG pipeline with LLM, embeddings, and Chroma retriever\n",
    "\n",
    "- Initialized Google Gemini 2.5 Pro model using ChatGoogleGenerativeAI\n",
    "- Created Hugging Face embeddings (BAAI/bge-small-en)\n",
    "- Loaded and split documents using TextLoader / DirectoryLoader and RecursiveCharacterTextSplitter\n",
    "- Stored embeddings in Chroma DB\n",
    "- Created a retriever for search over document chunks\n"
   ]
  },
  {
   "cell_type": "code",
   "execution_count": 148,
   "id": "be802975",
   "metadata": {},
   "outputs": [],
   "source": [
    "import operator\n",
    "from typing import List\n",
    "from pydantic import BaseModel , Field\n",
    "from langchain_core.prompts import PromptTemplate\n",
    "from typing import TypedDict, Annotated, Sequence\n",
    "from langchain_core.messages import BaseMessage\n",
    "from langchain_core.output_parsers import StrOutputParser\n",
    "from langchain_core.prompts import ChatPromptTemplate, PromptTemplate\n",
    "from langchain_core.runnables import RunnablePassthrough\n",
    "from langchain_core.messages import HumanMessage, AIMessage\n",
    "from langgraph.graph import StateGraph,END"
   ]
  },
  {
   "cell_type": "markdown",
   "id": "e9c6752a",
   "metadata": {},
   "source": [
    "                                        Defining structured output using Pydantic"
   ]
  },
  {
   "cell_type": "code",
   "execution_count": 149,
   "id": "cd316ff3",
   "metadata": {},
   "outputs": [],
   "source": [
    "class TopicSelectionParser(BaseModel):\n",
    "    Topic:str=Field(description=\"selected topic\")\n",
    "    Reasoning:str=Field(description='Reasoning behind topic selection')"
   ]
  },
  {
   "cell_type": "code",
   "execution_count": 151,
   "id": "394db4e1",
   "metadata": {},
   "outputs": [],
   "source": [
    "# Connecting the Pydantic schema with LangChain’s parser\n",
    "from langchain_core.output_parsers import PydanticOutputParser\n",
    "parser = PydanticOutputParser(pydantic_object=TopicSelectionParser)\n"
   ]
  },
  {
   "cell_type": "markdown",
   "id": "a82b2899",
   "metadata": {},
   "source": [
    "                                                    Creating Agent class"
   ]
  },
  {
   "cell_type": "code",
   "execution_count": 152,
   "id": "3aac4181",
   "metadata": {},
   "outputs": [],
   "source": [
    "class AgentState(TypedDict):\n",
    "    messages: Annotated[Sequence[BaseMessage], operator.add]"
   ]
  },
  {
   "cell_type": "markdown",
   "id": "3b07b431",
   "metadata": {},
   "source": [
    "                                                    Creating the superviser fun (Decision-maker)"
   ]
  },
  {
   "cell_type": "code",
   "execution_count": 153,
   "id": "a18a099b",
   "metadata": {},
   "outputs": [],
   "source": [
    "# This node decides if a user question is related to India or not.\n",
    "def function_1(state: AgentState):\n",
    "    question = state[\"messages\"][-1]  # get the most recent user question\n",
    "    print(\"Question:\", question)\n",
    "\n",
    "    # Prompt to guide the LLM to categorize the question cleanly\n",
    "    template = \"\"\"\n",
    "    Classify the user query into one of these categories: [India, Not Related].\n",
    "    Only respond with the category name and nothing else.\n",
    "\n",
    "    User query: {question}\n",
    "    {format_instructions}\n",
    "    \"\"\"\n",
    "\n",
    "    # Prepare prompt with format instructions\n",
    "    prompt = PromptTemplate(\n",
    "        template=template,\n",
    "        input_variables=[\"question\"],\n",
    "        partial_variables={\"format_instructions\": parser.get_format_instructions()}\n",
    "    )\n",
    "\n",
    "    # Chain: prompt → model → structured parser\n",
    "    chain = prompt | model | parser\n",
    "\n",
    "    # Run the chain and capture structured output\n",
    "    response = chain.invoke({\"question\": question})\n",
    "    print(\"Parsed response:\", response)\n",
    "\n",
    "    # Return only the topic (India / Not Related) for next node routing\n",
    "    return {\"messages\": [response.Topic]}"
   ]
  },
  {
   "cell_type": "markdown",
   "id": "c2756eae",
   "metadata": {},
   "source": [
    "                                                    Router Function"
   ]
  },
  {
   "cell_type": "code",
   "execution_count": 154,
   "id": "6f9e9829",
   "metadata": {},
   "outputs": [],
   "source": [
    "# Based on topic, route to either RAG (contextual) or LLM (general).\n",
    "def router(state: AgentState):\n",
    "    print(\"-> ROUTER ->\")\n",
    "    last_message = state[\"messages\"][-1]\n",
    "    print(\"Last Message:\", last_message)\n",
    "\n",
    "    # Simple routing logic\n",
    "    if \"india\" in last_message.lower():\n",
    "        return \"RAG Call\"\n",
    "    else:\n",
    "        return \"LLM Call\"\n"
   ]
  },
  {
   "cell_type": "code",
   "execution_count": null,
   "id": "061639cf",
   "metadata": {},
   "outputs": [],
   "source": [
    "# Formating the docs\n",
    "def format_docs(docs):\n",
    "    return \"\\n\\n\".join(doc.page_content for doc in docs)\n"
   ]
  },
  {
   "cell_type": "markdown",
   "id": "18273929",
   "metadata": {},
   "source": [
    "                                                        RAG function"
   ]
  },
  {
   "cell_type": "code",
   "execution_count": 156,
   "id": "63e8ea44",
   "metadata": {},
   "outputs": [],
   "source": [
    "def function_2(state: AgentState):\n",
    "    print(\"-> RAG Call ->\")\n",
    "    question = state[\"messages\"][0]  # fetch question from state\n",
    "\n",
    "    # Build a simple retrieval-based QA prompt\n",
    "    prompt = PromptTemplate(\n",
    "        template=\"\"\"\n",
    "        You are a helpful assistant for Q&A tasks.\n",
    "        Use the context below to answer concisely.\n",
    "        If the answer isn’t in context, just say you don’t know.\n",
    "\n",
    "        Question: {question}\n",
    "        Context: {context}\n",
    "        Answer:\n",
    "        \"\"\",\n",
    "        input_variables=[\"context\", \"question\"]\n",
    "    )\n",
    "\n",
    "    # RAG chain = retriever → prompt → model → string parser\n",
    "    rag_chain = (\n",
    "        {\"context\": retriever | format_docs, \"question\": RunnablePassthrough()}\n",
    "        | prompt\n",
    "        | model\n",
    "        | StrOutputParser()\n",
    "    )\n",
    "\n",
    "    result = rag_chain.invoke(question)\n",
    "    return {\"messages\": [result]}\n",
    "\n"
   ]
  },
  {
   "cell_type": "markdown",
   "id": "71fb6e74",
   "metadata": {},
   "source": [
    "                                                        LLM function"
   ]
  },
  {
   "cell_type": "code",
   "execution_count": 157,
   "id": "ffd8af54",
   "metadata": {},
   "outputs": [],
   "source": [
    "def function_3(state: AgentState):\n",
    "    print(\"-> LLM Call ->\")\n",
    "    question = state[\"messages\"][0]\n",
    "\n",
    "    # No RAG here — purely model-based response\n",
    "    full_prompt = \"Answer this question using your general knowledge: \" + question\n",
    "    response = model.invoke(full_prompt)\n",
    "    return {\"messages\": [response.content]}\n"
   ]
  },
  {
   "cell_type": "markdown",
   "id": "a19740d7",
   "metadata": {},
   "source": [
    "                                                                Building the workflow"
   ]
  },
  {
   "cell_type": "code",
   "execution_count": 158,
   "id": "a8119cb4",
   "metadata": {},
   "outputs": [],
   "source": [
    "# Defining nodes and edges to form a pipeline.\n",
    "workflow = StateGraph(AgentState)\n"
   ]
  },
  {
   "cell_type": "code",
   "execution_count": 159,
   "id": "08df004a",
   "metadata": {},
   "outputs": [
    {
     "data": {
      "text/plain": [
       "<langgraph.graph.state.StateGraph at 0x2172dfa9b40>"
      ]
     },
     "execution_count": 159,
     "metadata": {},
     "output_type": "execute_result"
    }
   ],
   "source": [
    "# Adding all nodes\n",
    "workflow.add_node(\"Supervisor\", function_1)\n",
    "workflow.add_node(\"RAG\", function_2)\n",
    "workflow.add_node(\"LLM\", function_3)\n"
   ]
  },
  {
   "cell_type": "code",
   "execution_count": 160,
   "id": "b12b3ba7",
   "metadata": {},
   "outputs": [
    {
     "data": {
      "text/plain": [
       "<langgraph.graph.state.StateGraph at 0x2172dfa9b40>"
      ]
     },
     "execution_count": 160,
     "metadata": {},
     "output_type": "execute_result"
    }
   ],
   "source": [
    "# Setting the entry node — Supervisor runs first\n",
    "workflow.set_entry_point(\"Supervisor\")"
   ]
  },
  {
   "cell_type": "code",
   "execution_count": 161,
   "id": "b3c118c1",
   "metadata": {},
   "outputs": [
    {
     "data": {
      "text/plain": [
       "<langgraph.graph.state.StateGraph at 0x2172dfa9b40>"
      ]
     },
     "execution_count": 161,
     "metadata": {},
     "output_type": "execute_result"
    }
   ],
   "source": [
    "# Conditional routing after Supervisor’s decision\n",
    "workflow.add_conditional_edges(\n",
    "    \"Supervisor\",\n",
    "    router,\n",
    "    {\n",
    "        \"RAG Call\": \"RAG\",\n",
    "        \"LLM Call\": \"LLM\",\n",
    "    }\n",
    ")\n"
   ]
  },
  {
   "cell_type": "code",
   "execution_count": 162,
   "id": "7d3e7bb6",
   "metadata": {},
   "outputs": [
    {
     "data": {
      "text/plain": [
       "<langgraph.graph.state.StateGraph at 0x2172dfa9b40>"
      ]
     },
     "execution_count": 162,
     "metadata": {},
     "output_type": "execute_result"
    }
   ],
   "source": [
    "# End points — both RAG and LLM end here\n",
    "workflow.add_edge(\"RAG\", END)\n",
    "workflow.add_edge(\"LLM\", END)"
   ]
  },
  {
   "cell_type": "code",
   "execution_count": 163,
   "id": "f7ddda15",
   "metadata": {},
   "outputs": [],
   "source": [
    "# Compile into an executable graph\n",
    "app = workflow.compile()"
   ]
  },
  {
   "cell_type": "markdown",
   "id": "78564da2",
   "metadata": {},
   "source": [
    "                                                    Testing it"
   ]
  },
  {
   "cell_type": "code",
   "execution_count": 164,
   "id": "50ff19f2",
   "metadata": {},
   "outputs": [
    {
     "name": "stdout",
     "output_type": "stream",
     "text": [
      "Question: What is the GDP of India?\n",
      "Parsed response: Topic='India' Reasoning='The user query explicitly asks a question about the GDP of India.'\n",
      "-> ROUTER ->\n",
      "Last Message: India\n",
      "-> RAG Call ->\n"
     ]
    },
    {
     "data": {
      "text/plain": [
       "{'messages': ['What is the GDP of India?',\n",
       "  'India',\n",
       "  \"For the fiscal year 2024–25, India's nominal GDP is ₹330.68 lakh crore, which is approximately $4.0 trillion USD.\"]}"
      ]
     },
     "execution_count": 164,
     "metadata": {},
     "output_type": "execute_result"
    }
   ],
   "source": [
    "# Case 1: Should go to RAG (India-related query)\n",
    "state = {\"messages\": [\"What is the GDP of India?\"]}\n",
    "app.invoke(state)\n",
    "\n"
   ]
  },
  {
   "cell_type": "markdown",
   "id": "2f9bff99",
   "metadata": {},
   "source": [
    "This code creates an agentic AI system using LangGraph, where multiple AI components work together to process a user’s query intelligently. It starts by defining an AgentState class to manage how information (like messages or context) flows between these components. Each part of the system — the router, RAG agent, and LLM agent — has a specific job: the router decides which path the query should take, the RAG agent retrieves relevant information from documents, and the LLM agent generates a natural language response.\n",
    "All these components are then connected inside a graph-like workflow, allowing them to communicate in a structured way. When a user asks a question, the graph processes it step by step, routing it through the right agents and combining their outputs to give a final answer. "
   ]
  },
  {
   "cell_type": "markdown",
   "id": "8f9bec29",
   "metadata": {},
   "source": [
    "The flowchart visualization:"
   ]
  },
  {
   "cell_type": "code",
   "execution_count": 167,
   "id": "9438d68f",
   "metadata": {},
   "outputs": [
    {
     "data": {
      "image/png": "[encoded data removed]",
      "text/plain": [
       "<IPython.core.display.Image object>"
      ]
     },
     "metadata": {},
     "output_type": "display_data"
    }
   ],
   "source": [
    "from IPython.display import Image, display\n",
    "\n",
    "# Generate and display the workflow graph\n",
    "display(Image(app.get_graph().draw_mermaid_png()))\n"
   ]
  },
  {
   "cell_type": "code",
   "execution_count": null,
   "id": "aa3a9c82",
   "metadata": {},
   "outputs": [],
   "source": []
  }
 ],
 "metadata": {
  "kernelspec": {
   "display_name": "Python 3",
   "language": "python",
   "name": "python3"
  },
  "language_info": {
   "codemirror_mode": {
    "name": "ipython",
    "version": 3
   },
   "file_extension": ".py",
   "mimetype": "text/x-python",
   "name": "python",
   "nbconvert_exporter": "python",
   "pygments_lexer": "ipython3",
   "version": "3.10.19"
  }
 },
 "nbformat": 4,
 "nbformat_minor": 5
}
