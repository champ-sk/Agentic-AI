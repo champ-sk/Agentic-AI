{
 "cells": [
  {
   "cell_type": "code",
   "execution_count": 1,
   "id": "97f912f7",
   "metadata": {},
   "outputs": [
    {
     "name": "stdout",
     "output_type": "stream",
     "text": [
      "Hi\n"
     ]
    }
   ],
   "source": [
    "print('Hi')"
   ]
  },
  {
   "cell_type": "code",
   "execution_count": 2,
   "id": "f28ec1ab",
   "metadata": {},
   "outputs": [],
   "source": [
    "import os\n",
    "from dotenv import load_dotenv\n",
    "load_dotenv()\n",
    "import os\n",
    "os.environ['GROQ_API_KEY'] = os.getenv(\"GROQ_API_KEY\")\n"
   ]
  },
  {
   "cell_type": "code",
   "execution_count": 3,
   "id": "d7dd165d",
   "metadata": {},
   "outputs": [],
   "source": [
    "model=\"llama-3.1-8b-instant\""
   ]
  },
  {
   "cell_type": "code",
   "execution_count": 4,
   "id": "7da30025",
   "metadata": {},
   "outputs": [
    {
     "name": "stderr",
     "output_type": "stream",
     "text": [
      "e:\\Agentic-AI-code\\env\\lib\\site-packages\\tqdm\\auto.py:21: TqdmWarning: IProgress not found. Please update jupyter and ipywidgets. See https://ipywidgets.readthedocs.io/en/stable/user_install.html\n",
      "  from .autonotebook import tqdm as notebook_tqdm\n"
     ]
    },
    {
     "data": {
      "text/plain": [
       "AIMessage(content='How can I assist you today?', additional_kwargs={}, response_metadata={'token_usage': {'completion_tokens': 8, 'prompt_tokens': 36, 'total_tokens': 44, 'completion_time': 0.010143706, 'prompt_time': 0.001803314, 'queue_time': 0.048186766, 'total_time': 0.01194702}, 'model_name': 'llama-3.1-8b-instant', 'system_fingerprint': 'fp_33e8adf159', 'service_tier': 'on_demand', 'finish_reason': 'stop', 'logprobs': None, 'model_provider': 'groq'}, id='lc_run--51421c69-42da-4fdc-bfe3-b7cc06f30085-0', usage_metadata={'input_tokens': 36, 'output_tokens': 8, 'total_tokens': 44})"
      ]
     },
     "execution_count": 4,
     "metadata": {},
     "output_type": "execute_result"
    }
   ],
   "source": [
    "from langchain_groq import ChatGroq\n",
    "llm=ChatGroq(model_name=model)\n",
    "llm.invoke(\"hi\")"
   ]
  },
  {
   "cell_type": "code",
   "execution_count": 5,
   "id": "09743146",
   "metadata": {},
   "outputs": [],
   "source": [
    "llm=ChatGroq(model_name=model)"
   ]
  },
  {
   "cell_type": "code",
   "execution_count": 6,
   "id": "5b125ff6",
   "metadata": {},
   "outputs": [
    {
     "name": "stdout",
     "output_type": "stream",
     "text": [
      "I'm just a computer program, so I don't have feelings, but thanks for asking. I'm functioning properly and ready to help with any questions or tasks you may have. How can I assist you today?\n"
     ]
    }
   ],
   "source": [
    "print(llm.invoke(\"Hi , how are you?\").content)"
   ]
  },
  {
   "cell_type": "code",
   "execution_count": null,
   "id": "f1170b15",
   "metadata": {},
   "outputs": [],
   "source": [
    "from langchain_core.tools import tool\n",
    "from langchain_core.messages import HumanMessage, AIMessage\n",
    "from langgraph.graph import StateGraph,MessagesState,START,END\n",
    "from langgraph.prebuilt.tool_node import ToolNode"
   ]
  },
  {
   "cell_type": "code",
   "execution_count": null,
   "id": "b571b67f",
   "metadata": {},
   "outputs": [],
   "source": [
    "def call_model(state: MessagesState):\n",
    "    messages = state['messages']\n",
    "    response = llm.invoke(messages)\n",
    "    return {\"messages\": [response]}\n"
   ]
  },
  {
   "cell_type": "code",
   "execution_count": 9,
   "id": "d7bfec04",
   "metadata": {},
   "outputs": [
    {
     "data": {
      "text/plain": [
       "{'messages': [AIMessage(content=\"Hello, nice to meet you. I'm just a computer program, so I don't have feelings like humans do, but I'm functioning properly and ready to help with any questions or tasks you may have. How can I assist you today?\", additional_kwargs={}, response_metadata={'token_usage': {'completion_tokens': 50, 'prompt_tokens': 41, 'total_tokens': 91, 'completion_time': 0.061040292, 'prompt_time': 0.002172573, 'queue_time': 0.052064017, 'total_time': 0.063212865}, 'model_name': 'llama-3.1-8b-instant', 'system_fingerprint': 'fp_7b3cfae3af', 'service_tier': 'on_demand', 'finish_reason': 'stop', 'logprobs': None, 'model_provider': 'groq'}, id='lc_run--782b0bc7-21dc-403b-a757-f3edf32048bf-0', usage_metadata={'input_tokens': 41, 'output_tokens': 50, 'total_tokens': 91})]}"
      ]
     },
     "execution_count": 9,
     "metadata": {},
     "output_type": "execute_result"
    }
   ],
   "source": [
    "state={\"messages\":[\"hi hello how are you?\"]}\n",
    "call_model(state)\n"
   ]
  },
  {
   "cell_type": "code",
   "execution_count": 10,
   "id": "ac290663",
   "metadata": {},
   "outputs": [],
   "source": [
    "workflow= StateGraph(MessagesState)"
   ]
  },
  {
   "cell_type": "code",
   "execution_count": 11,
   "id": "6d04a264",
   "metadata": {},
   "outputs": [
    {
     "data": {
      "text/plain": [
       "<langgraph.graph.state.StateGraph at 0x2061eb85630>"
      ]
     },
     "execution_count": 11,
     "metadata": {},
     "output_type": "execute_result"
    }
   ],
   "source": [
    "workflow.add_node(\"Bot\" , call_model)"
   ]
  },
  {
   "cell_type": "code",
   "execution_count": 12,
   "id": "cc5ba123",
   "metadata": {},
   "outputs": [
    {
     "data": {
      "text/plain": [
       "<langgraph.graph.state.StateGraph at 0x2061eb85630>"
      ]
     },
     "execution_count": 12,
     "metadata": {},
     "output_type": "execute_result"
    }
   ],
   "source": [
    "workflow.add_edge(START , \"Bot\" )"
   ]
  },
  {
   "cell_type": "code",
   "execution_count": 13,
   "id": "1c309008",
   "metadata": {},
   "outputs": [
    {
     "data": {
      "text/plain": [
       "<langgraph.graph.state.StateGraph at 0x2061eb85630>"
      ]
     },
     "execution_count": 13,
     "metadata": {},
     "output_type": "execute_result"
    }
   ],
   "source": [
    "workflow.add_edge(\"Bot\" ,END)"
   ]
  },
  {
   "cell_type": "code",
   "execution_count": 14,
   "id": "124602ac",
   "metadata": {},
   "outputs": [],
   "source": [
    "app = workflow.compile()"
   ]
  },
  {
   "cell_type": "code",
   "execution_count": 15,
   "id": "602f6429",
   "metadata": {},
   "outputs": [
    {
     "data": {
      "image/png": "[encoded data removed]",
      "text/plain": [
       "<IPython.core.display.Image object>"
      ]
     },
     "metadata": {},
     "output_type": "display_data"
    }
   ],
   "source": [
    "from IPython.display import Image ,display\n",
    "display(Image(app.get_graph().draw_mermaid_png()))"
   ]
  },
  {
   "cell_type": "code",
   "execution_count": 18,
   "id": "1e0d8d7e",
   "metadata": {},
   "outputs": [],
   "source": [
    "input={\"messages\":[\"hi hello how are you?\"]}"
   ]
  },
  {
   "cell_type": "code",
   "execution_count": 19,
   "id": "44174445",
   "metadata": {},
   "outputs": [
    {
     "data": {
      "text/plain": [
       "{'messages': [HumanMessage(content='hi hello how are you?', additional_kwargs={}, response_metadata={}, id='ba090605-88c7-4064-a500-c85a32d2debe'),\n",
       "  AIMessage(content=\"Hello. I'm doing well, thanks for asking. It's nice to chat with you. Is there something I can help you with or would you like to talk about something in particular?\", additional_kwargs={}, response_metadata={'token_usage': {'completion_tokens': 39, 'prompt_tokens': 41, 'total_tokens': 80, 'completion_time': 0.050282664, 'prompt_time': 0.002411484, 'queue_time': 0.051293596, 'total_time': 0.052694148}, 'model_name': 'llama-3.1-8b-instant', 'system_fingerprint': 'fp_e32974efee', 'service_tier': 'on_demand', 'finish_reason': 'stop', 'logprobs': None, 'model_provider': 'groq'}, id='lc_run--5e716a32-02b5-4548-8b78-cd443c7106cf-0', usage_metadata={'input_tokens': 41, 'output_tokens': 39, 'total_tokens': 80})]}"
      ]
     },
     "execution_count": 19,
     "metadata": {},
     "output_type": "execute_result"
    }
   ],
   "source": [
    "app.invoke(input)\n"
   ]
  },
  {
   "cell_type": "code",
   "execution_count": 20,
   "id": "b51a1f38",
   "metadata": {},
   "outputs": [
    {
     "name": "stdout",
     "output_type": "stream",
     "text": [
      "Output from Bot Node\n",
      "_______\n",
      "{'messages': [AIMessage(content=\"Hello. I'm just a computer program, so I don't have feelings in the same way humans do, but I'm functioning properly and ready to help you with any questions or tasks you have. How can I assist you today?\", additional_kwargs={}, response_metadata={'token_usage': {'completion_tokens': 48, 'prompt_tokens': 41, 'total_tokens': 89, 'completion_time': 0.061947694, 'prompt_time': 0.002230957, 'queue_time': 0.051500883, 'total_time': 0.064178651}, 'model_name': 'llama-3.1-8b-instant', 'system_fingerprint': 'fp_e32974efee', 'service_tier': 'on_demand', 'finish_reason': 'stop', 'logprobs': None, 'model_provider': 'groq'}, id='lc_run--d0b96a60-4c91-45fc-8cda-236fbfc57f70-0', usage_metadata={'input_tokens': 41, 'output_tokens': 48, 'total_tokens': 89})]}\n",
      "\n",
      "\n"
     ]
    }
   ],
   "source": [
    "for output in app.stream(input):\n",
    "    for key,value in output.items():\n",
    "        print(f\"Output from {key} Node\")\n",
    "        print(\"_______\")\n",
    "        print(value)\n",
    "        print(\"\\n\")"
   ]
  },
  {
   "cell_type": "code",
   "execution_count": 21,
   "id": "4ce5dc41",
   "metadata": {},
   "outputs": [],
   "source": [
    "@tool\n",
    "def search(query:str):\n",
    "    \"\"\"this is my custom tool for searching a weather\"\"\"\n",
    "    if \"delhi\" in query.lower():\n",
    "        return \"the temp is 45 degree and sunny\"\n",
    "    return \"the temp is 25 degree and cloudy\"\n"
   ]
  },
  {
   "cell_type": "code",
   "execution_count": 22,
   "id": "829fd749",
   "metadata": {},
   "outputs": [
    {
     "data": {
      "text/plain": [
       "'the temp is 25 degree and cloudy'"
      ]
     },
     "execution_count": 22,
     "metadata": {},
     "output_type": "execute_result"
    }
   ],
   "source": [
    "search.invoke(\"what is a tempurature in kashmir?\")\n"
   ]
  },
  {
   "cell_type": "code",
   "execution_count": 23,
   "id": "0e228396",
   "metadata": {},
   "outputs": [
    {
     "data": {
      "text/plain": [
       "'the temp is 45 degree and sunny'"
      ]
     },
     "execution_count": 23,
     "metadata": {},
     "output_type": "execute_result"
    }
   ],
   "source": [
    "search.invoke(\"what is a tempurature in delhi?\")\n"
   ]
  },
  {
   "cell_type": "code",
   "execution_count": 43,
   "id": "d25a89d8",
   "metadata": {},
   "outputs": [],
   "source": [
    "tool = [search]"
   ]
  },
  {
   "cell_type": "code",
   "execution_count": null,
   "id": "96c6a629",
   "metadata": {},
   "outputs": [],
   "source": [
    "llm_with_tool = llm.bind_tools(tool) #binding the tool with llm "
   ]
  },
  {
   "cell_type": "code",
   "execution_count": null,
   "id": "ceac2936",
   "metadata": {},
   "outputs": [
    {
     "data": {
      "text/plain": [
       "AIMessage(content='', additional_kwargs={'tool_calls': [{'id': '7p4rr7cyn', 'function': {'arguments': '{\"query\":\"delhi weather\"}', 'name': 'search'}, 'type': 'function'}]}, response_metadata={'token_usage': {'completion_tokens': 15, 'prompt_tokens': 224, 'total_tokens': 239, 'completion_time': 0.014278269, 'prompt_time': 0.012210944, 'queue_time': 0.049721336, 'total_time': 0.026489213}, 'model_name': 'llama-3.1-8b-instant', 'system_fingerprint': 'fp_7b3cfae3af', 'service_tier': 'on_demand', 'finish_reason': 'tool_calls', 'logprobs': None, 'model_provider': 'groq'}, id='lc_run--023d23ea-c9b1-485a-b10d-3d4f3acbcf9b-0', tool_calls=[{'name': 'search', 'args': {'query': 'delhi weather'}, 'id': '7p4rr7cyn', 'type': 'tool_call'}], usage_metadata={'input_tokens': 224, 'output_tokens': 15, 'total_tokens': 239})"
      ]
     },
     "execution_count": 30,
     "metadata": {},
     "output_type": "execute_result"
    }
   ],
   "source": [
    "llm_with_tool.invoke('what is the weather in delhi?') #based on his intelligence llm is not giving the answer by themself instead it is passing the query the tool"
   ]
  },
  {
   "cell_type": "code",
   "execution_count": 31,
   "id": "8a4362c1",
   "metadata": {},
   "outputs": [],
   "source": [
    "response = llm_with_tool.invoke('what is the weather in delhi?')"
   ]
  },
  {
   "cell_type": "code",
   "execution_count": null,
   "id": "d43020ea",
   "metadata": {},
   "outputs": [
    {
     "data": {
      "text/plain": [
       "[{'name': 'search',\n",
       "  'args': {'query': 'delhi weather'},\n",
       "  'id': 'nf55rxrrw',\n",
       "  'type': 'tool_call'}]"
      ]
     },
     "execution_count": 32,
     "metadata": {},
     "output_type": "execute_result"
    }
   ],
   "source": [
    "response.tool_calls #here we can see the query is passed to the tool by llm based on his intelligence"
   ]
  },
  {
   "cell_type": "code",
   "execution_count": 33,
   "id": "8965bc9f",
   "metadata": {},
   "outputs": [],
   "source": [
    "def call_model(state:MessagesState):\n",
    "    question=state[\"messages\"]\n",
    "    response=llm_with_tool.invoke(question)\n",
    "    return {\"messages\":[response]}"
   ]
  },
  {
   "cell_type": "code",
   "execution_count": 34,
   "id": "90296adc",
   "metadata": {},
   "outputs": [],
   "source": [
    "\n",
    "input={\"messages\":[\"what is a weather in delhi?\"]}\n"
   ]
  },
  {
   "cell_type": "code",
   "execution_count": 35,
   "id": "8f5d42bc",
   "metadata": {},
   "outputs": [],
   "source": [
    "response = call_model(input)"
   ]
  },
  {
   "cell_type": "code",
   "execution_count": 39,
   "id": "f25681ee",
   "metadata": {},
   "outputs": [
    {
     "data": {
      "text/plain": [
       "{'messages': [AIMessage(content='', additional_kwargs={'tool_calls': [{'id': 'fes8femcm', 'function': {'arguments': '{\"query\":\"weather in delhi\"}', 'name': 'search'}, 'type': 'function'}]}, response_metadata={'token_usage': {'completion_tokens': 16, 'prompt_tokens': 224, 'total_tokens': 240, 'completion_time': 0.018720066, 'prompt_time': 0.012182025, 'queue_time': 0.048978344, 'total_time': 0.030902091}, 'model_name': 'llama-3.1-8b-instant', 'system_fingerprint': 'fp_ab04adca7d', 'service_tier': 'on_demand', 'finish_reason': 'tool_calls', 'logprobs': None, 'model_provider': 'groq'}, id='lc_run--bb76f318-6784-45a8-ae35-248977d9f007-0', tool_calls=[{'name': 'search', 'args': {'query': 'weather in delhi'}, 'id': 'fes8femcm', 'type': 'tool_call'}], usage_metadata={'input_tokens': 224, 'output_tokens': 16, 'total_tokens': 240})]}"
      ]
     },
     "execution_count": 39,
     "metadata": {},
     "output_type": "execute_result"
    }
   ],
   "source": [
    "response"
   ]
  },
  {
   "cell_type": "code",
   "execution_count": 38,
   "id": "9ed94916",
   "metadata": {},
   "outputs": [
    {
     "data": {
      "text/plain": [
       "''"
      ]
     },
     "execution_count": 38,
     "metadata": {},
     "output_type": "execute_result"
    }
   ],
   "source": [
    "response[\"messages\"][-1].content"
   ]
  },
  {
   "cell_type": "code",
   "execution_count": 40,
   "id": "99dba8d9",
   "metadata": {},
   "outputs": [
    {
     "data": {
      "text/plain": [
       "[{'name': 'search',\n",
       "  'args': {'query': 'weather in delhi'},\n",
       "  'id': 'fes8femcm',\n",
       "  'type': 'tool_call'}]"
      ]
     },
     "execution_count": 40,
     "metadata": {},
     "output_type": "execute_result"
    }
   ],
   "source": [
    "response[\"messages\"][-1].tool_calls\n"
   ]
  },
  {
   "cell_type": "code",
   "execution_count": 41,
   "id": "b3f524d5",
   "metadata": {},
   "outputs": [],
   "source": [
    "#creating the router here & now whatever will come from call_model router funtion will redirect this to the appropriate tool\n",
    "def router(state:MessagesState):\n",
    "    message=state[\"messages\"]\n",
    "    last_message=message[-1]\n",
    "    if last_message.tool_calls:\n",
    "        return \"tools\"\n",
    "    return END"
   ]
  },
  {
   "cell_type": "code",
   "execution_count": 44,
   "id": "92736f7d",
   "metadata": {},
   "outputs": [
    {
     "data": {
      "text/plain": [
       "[StructuredTool(name='search', description='this is my custom tool for searching a weather', args_schema=<class 'langchain_core.utils.pydantic.search'>, func=<function search at 0x000002061EED5F30>)]"
      ]
     },
     "execution_count": 44,
     "metadata": {},
     "output_type": "execute_result"
    }
   ],
   "source": [
    "tool"
   ]
  },
  {
   "cell_type": "code",
   "execution_count": null,
   "id": "1eaa50bd",
   "metadata": {},
   "outputs": [],
   "source": [
    "# Option 1 (latest versions)\n",
    "\n",
    "\n",
    "# Option 2 (some versions)\n",
    "#from langgraph.nodes import ToolNode\n",
    "\n",
    "# Option 3 (older)\n",
    "#from langgraph.prebuilt import ToolNode\n"
   ]
  },
  {
   "cell_type": "code",
   "execution_count": 60,
   "id": "217d2c44",
   "metadata": {},
   "outputs": [],
   "source": [
    "tool_node=ToolNode(tool) # to add the tool in the workflow we have to convert it to a toolnode"
   ]
  },
  {
   "cell_type": "code",
   "execution_count": 61,
   "id": "ed513d10",
   "metadata": {},
   "outputs": [
    {
     "data": {
      "text/plain": [
       "tools(tags=None, recurse=True, explode_args=False, func_accepts={'config': ('N/A', <class 'inspect._empty'>), 'runtime': ('N/A', <class 'inspect._empty'>)}, _tools_by_name={'search': StructuredTool(name='search', description='this is my custom tool for searching a weather', args_schema=<class 'langchain_core.utils.pydantic.search'>, func=<function search at 0x000002061EED5F30>)}, _tool_to_state_args={'search': {}}, _tool_to_store_arg={'search': None}, _tool_to_runtime_arg={'search': None}, _handle_tool_errors=<function _default_handle_tool_errors at 0x00000206203B4310>, _messages_key='messages', _wrap_tool_call=None, _awrap_tool_call=None)"
      ]
     },
     "execution_count": 61,
     "metadata": {},
     "output_type": "execute_result"
    }
   ],
   "source": [
    "tool_node"
   ]
  },
  {
   "cell_type": "code",
   "execution_count": 62,
   "id": "0a269027",
   "metadata": {},
   "outputs": [],
   "source": [
    "workflow1=StateGraph(MessagesState)\n"
   ]
  },
  {
   "cell_type": "code",
   "execution_count": 63,
   "id": "bea4109d",
   "metadata": {},
   "outputs": [
    {
     "data": {
      "text/plain": [
       "<langgraph.graph.state.StateGraph at 0x2061ef3efe0>"
      ]
     },
     "execution_count": 63,
     "metadata": {},
     "output_type": "execute_result"
    }
   ],
   "source": [
    "workflow1.add_node(\"llmwithtool\",call_model)\n",
    "\n",
    "workflow1.add_node(\"mytools\",tool_node)\n",
    "\n",
    "workflow1.add_edge(START,\"llmwithtool\")\n",
    "\n",
    "workflow1.add_conditional_edges(\"llmwithtool\",\n",
    "                                router,\n",
    "                                {\"tools\":\"mytools\",\n",
    "                                 END:END})"
   ]
  },
  {
   "cell_type": "code",
   "execution_count": 64,
   "id": "52b6d5ce",
   "metadata": {},
   "outputs": [],
   "source": [
    "app1=workflow1.compile()\n"
   ]
  },
  {
   "cell_type": "code",
   "execution_count": 66,
   "id": "729dc1a8",
   "metadata": {},
   "outputs": [
    {
     "data": {
      "image/png": "[encoded data removed]",
      "text/plain": [
       "<IPython.core.display.Image object>"
      ]
     },
     "metadata": {},
     "output_type": "display_data"
    }
   ],
   "source": [
    "from IPython.display import Image, display\n",
    "display(Image(app1.get_graph().draw_mermaid_png()))\n"
   ]
  },
  {
   "cell_type": "code",
   "execution_count": 67,
   "id": "70e50b66",
   "metadata": {},
   "outputs": [],
   "source": [
    "response=app1.invoke({\"messages\":[\"what is a weather in bengraluru?\"]})\n"
   ]
  },
  {
   "cell_type": "code",
   "execution_count": 68,
   "id": "7ac913c1",
   "metadata": {},
   "outputs": [
    {
     "data": {
      "text/plain": [
       "'the temp is 25 degree and cloudy'"
      ]
     },
     "execution_count": 68,
     "metadata": {},
     "output_type": "execute_result"
    }
   ],
   "source": [
    "response[\"messages\"][-1].content\n"
   ]
  },
  {
   "cell_type": "code",
   "execution_count": 70,
   "id": "8c6060dc",
   "metadata": {},
   "outputs": [
    {
     "data": {
      "text/plain": [
       "{'messages': [HumanMessage(content='what is a weather in delhi?', additional_kwargs={}, response_metadata={}, id='f8193793-4566-4e94-8183-37608591906b'),\n",
       "  AIMessage(content='', additional_kwargs={'tool_calls': [{'id': 't0vf3whbp', 'function': {'arguments': '{\"query\":\"weather in delhi\"}', 'name': 'search'}, 'type': 'function'}]}, response_metadata={'token_usage': {'completion_tokens': 16, 'prompt_tokens': 224, 'total_tokens': 240, 'completion_time': 0.018913107, 'prompt_time': 0.012207823, 'queue_time': 0.049113217, 'total_time': 0.03112093}, 'model_name': 'llama-3.1-8b-instant', 'system_fingerprint': 'fp_ab04adca7d', 'service_tier': 'on_demand', 'finish_reason': 'tool_calls', 'logprobs': None, 'model_provider': 'groq'}, id='lc_run--23bf9910-a856-440b-a092-f3030e34e1e5-0', tool_calls=[{'name': 'search', 'args': {'query': 'weather in delhi'}, 'id': 't0vf3whbp', 'type': 'tool_call'}], usage_metadata={'input_tokens': 224, 'output_tokens': 16, 'total_tokens': 240}),\n",
       "  ToolMessage(content='the temp is 45 degree and sunny', name='search', id='eead6409-3a3f-4a93-ba2b-ea1301be1cfd', tool_call_id='t0vf3whbp')]}"
      ]
     },
     "execution_count": 70,
     "metadata": {},
     "output_type": "execute_result"
    }
   ],
   "source": [
    "app1.invoke({\"messages\":[\"what is a weather in delhi?\"]})\n"
   ]
  },
  {
   "cell_type": "code",
   "execution_count": 71,
   "id": "4f1a5195",
   "metadata": {},
   "outputs": [
    {
     "data": {
      "text/plain": [
       "{'messages': [HumanMessage(content='hi how are you?', additional_kwargs={}, response_metadata={}, id='292b7016-fb94-423d-a084-5a5f559a8886'),\n",
       "  AIMessage(content=\"I'm functioning properly, thanks for asking. What can I assist you with today?\", additional_kwargs={}, response_metadata={'token_usage': {'completion_tokens': 18, 'prompt_tokens': 221, 'total_tokens': 239, 'completion_time': 0.032462188, 'prompt_time': 0.012164574, 'queue_time': 0.048988266, 'total_time': 0.044626762}, 'model_name': 'llama-3.1-8b-instant', 'system_fingerprint': 'fp_e32974efee', 'service_tier': 'on_demand', 'finish_reason': 'stop', 'logprobs': None, 'model_provider': 'groq'}, id='lc_run--652d5929-fbe6-4d5a-92db-3919d540d96e-0', usage_metadata={'input_tokens': 221, 'output_tokens': 18, 'total_tokens': 239})]}"
      ]
     },
     "execution_count": 71,
     "metadata": {},
     "output_type": "execute_result"
    }
   ],
   "source": [
    "app1.invoke({\"messages\":[\"hi how are you?\"]})\n"
   ]
  },
  {
   "cell_type": "code",
   "execution_count": null,
   "id": "6b5bcddb",
   "metadata": {},
   "outputs": [],
   "source": []
  }
 ],
 "metadata": {
  "kernelspec": {
   "display_name": "Python 3",
   "language": "python",
   "name": "python3"
  },
  "language_info": {
   "codemirror_mode": {
    "name": "ipython",
    "version": 3
   },
   "file_extension": ".py",
   "mimetype": "text/x-python",
   "name": "python",
   "nbconvert_exporter": "python",
   "pygments_lexer": "ipython3",
   "version": "3.10.19"
  }
 },
 "nbformat": 4,
 "nbformat_minor": 5
}
