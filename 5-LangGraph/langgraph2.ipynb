{
 "cells": [
  {
   "cell_type": "code",
   "execution_count": 1,
   "id": "97f912f7",
   "metadata": {},
   "outputs": [
    {
     "name": "stdout",
     "output_type": "stream",
     "text": [
      "Hi\n"
     ]
    }
   ],
   "source": [
    "print('Hi')"
   ]
  },
  {
   "cell_type": "code",
   "execution_count": 2,
   "id": "f28ec1ab",
   "metadata": {},
   "outputs": [],
   "source": [
    "import os\n",
    "from dotenv import load_dotenv\n",
    "load_dotenv()\n",
    "import os\n",
    "os.environ['GROQ_API_KEY'] = os.getenv(\"GROQ_API_KEY\")\n"
   ]
  },
  {
   "cell_type": "code",
   "execution_count": 3,
   "id": "d7dd165d",
   "metadata": {},
   "outputs": [],
   "source": [
    "model=\"llama-3.1-8b-instant\""
   ]
  },
  {
   "cell_type": "code",
   "execution_count": 4,
   "id": "7da30025",
   "metadata": {},
   "outputs": [
    {
     "name": "stderr",
     "output_type": "stream",
     "text": [
      "e:\\Agentic-AI-code\\env\\lib\\site-packages\\tqdm\\auto.py:21: TqdmWarning: IProgress not found. Please update jupyter and ipywidgets. See https://ipywidgets.readthedocs.io/en/stable/user_install.html\n",
      "  from .autonotebook import tqdm as notebook_tqdm\n"
     ]
    },
    {
     "data": {
      "text/plain": [
       "AIMessage(content='How can I assist you today?', additional_kwargs={}, response_metadata={'token_usage': {'completion_tokens': 8, 'prompt_tokens': 36, 'total_tokens': 44, 'completion_time': 0.006503863, 'prompt_time': 0.001554577, 'queue_time': 0.049889683, 'total_time': 0.00805844}, 'model_name': 'llama-3.1-8b-instant', 'system_fingerprint': 'fp_e32974efee', 'service_tier': 'on_demand', 'finish_reason': 'stop', 'logprobs': None, 'model_provider': 'groq'}, id='lc_run--eb2f852b-ac05-4faf-8a49-3e5be9287eaf-0', usage_metadata={'input_tokens': 36, 'output_tokens': 8, 'total_tokens': 44})"
      ]
     },
     "execution_count": 4,
     "metadata": {},
     "output_type": "execute_result"
    }
   ],
   "source": [
    "from langchain_groq import ChatGroq\n",
    "llm=ChatGroq(model_name=model)\n",
    "llm.invoke(\"hi\")"
   ]
  },
  {
   "cell_type": "code",
   "execution_count": 5,
   "id": "09743146",
   "metadata": {},
   "outputs": [],
   "source": [
    "llm=ChatGroq(model_name=model)"
   ]
  },
  {
   "cell_type": "code",
   "execution_count": 6,
   "id": "5b125ff6",
   "metadata": {},
   "outputs": [
    {
     "name": "stdout",
     "output_type": "stream",
     "text": [
      "I'm just a language model, so I don't have emotions or feelings like humans do, but I'm functioning properly and ready to help you with any questions or tasks you may have. How can I assist you today?\n"
     ]
    }
   ],
   "source": [
    "print(llm.invoke(\"Hi , how are you?\").content)"
   ]
  },
  {
   "cell_type": "code",
   "execution_count": 7,
   "id": "f1170b15",
   "metadata": {},
   "outputs": [],
   "source": [
    "from langchain_core.tools import tool\n",
    "from langchain_core.messages import HumanMessage, AIMessage\n",
    "from langgraph.graph import StateGraph,MessagesState,START,END\n",
    "from langgraph.prebuilt.tool_node import ToolNode"
   ]
  },
  {
   "cell_type": "code",
   "execution_count": 8,
   "id": "b571b67f",
   "metadata": {},
   "outputs": [],
   "source": [
    "def call_model(state: MessagesState):\n",
    "    messages = state['messages']\n",
    "    response = llm.invoke(messages)\n",
    "    return {\"messages\": [response]}\n"
   ]
  },
  {
   "cell_type": "code",
   "execution_count": 9,
   "id": "d7bfec04",
   "metadata": {},
   "outputs": [
    {
     "data": {
      "text/plain": [
       "{'messages': [AIMessage(content=\"Hello. I'm functioning properly, thank you for asking. How can I assist you today?\", additional_kwargs={}, response_metadata={'token_usage': {'completion_tokens': 20, 'prompt_tokens': 41, 'total_tokens': 61, 'completion_time': 0.025132992, 'prompt_time': 0.001855643, 'queue_time': 0.049572937, 'total_time': 0.026988635}, 'model_name': 'llama-3.1-8b-instant', 'system_fingerprint': 'fp_33e8adf159', 'service_tier': 'on_demand', 'finish_reason': 'stop', 'logprobs': None, 'model_provider': 'groq'}, id='lc_run--6dcb985e-8358-4c59-9c26-fd566f7e9619-0', usage_metadata={'input_tokens': 41, 'output_tokens': 20, 'total_tokens': 61})]}"
      ]
     },
     "execution_count": 9,
     "metadata": {},
     "output_type": "execute_result"
    }
   ],
   "source": [
    "state={\"messages\":[\"hi hello how are you?\"]}\n",
    "call_model(state)\n"
   ]
  },
  {
   "cell_type": "code",
   "execution_count": 10,
   "id": "ac290663",
   "metadata": {},
   "outputs": [],
   "source": [
    "workflow= StateGraph(MessagesState)"
   ]
  },
  {
   "cell_type": "code",
   "execution_count": 11,
   "id": "6d04a264",
   "metadata": {},
   "outputs": [
    {
     "data": {
      "text/plain": [
       "<langgraph.graph.state.StateGraph at 0x1e196a3ac20>"
      ]
     },
     "execution_count": 11,
     "metadata": {},
     "output_type": "execute_result"
    }
   ],
   "source": [
    "workflow.add_node(\"Bot\" , call_model)"
   ]
  },
  {
   "cell_type": "code",
   "execution_count": 12,
   "id": "cc5ba123",
   "metadata": {},
   "outputs": [
    {
     "data": {
      "text/plain": [
       "<langgraph.graph.state.StateGraph at 0x1e196a3ac20>"
      ]
     },
     "execution_count": 12,
     "metadata": {},
     "output_type": "execute_result"
    }
   ],
   "source": [
    "workflow.add_edge(START , \"Bot\" )"
   ]
  },
  {
   "cell_type": "code",
   "execution_count": 13,
   "id": "1c309008",
   "metadata": {},
   "outputs": [
    {
     "data": {
      "text/plain": [
       "<langgraph.graph.state.StateGraph at 0x1e196a3ac20>"
      ]
     },
     "execution_count": 13,
     "metadata": {},
     "output_type": "execute_result"
    }
   ],
   "source": [
    "workflow.add_edge(\"Bot\" ,END)"
   ]
  },
  {
   "cell_type": "code",
   "execution_count": 14,
   "id": "124602ac",
   "metadata": {},
   "outputs": [],
   "source": [
    "app = workflow.compile()"
   ]
  },
  {
   "cell_type": "code",
   "execution_count": 15,
   "id": "602f6429",
   "metadata": {},
   "outputs": [
    {
     "data": {
      "image/png": "[encoded data removed]",
      "text/plain": [
       "<IPython.core.display.Image object>"
      ]
     },
     "metadata": {},
     "output_type": "display_data"
    }
   ],
   "source": [
    "from IPython.display import Image ,display\n",
    "display(Image(app.get_graph().draw_mermaid_png()))"
   ]
  },
  {
   "cell_type": "code",
   "execution_count": 16,
   "id": "1e0d8d7e",
   "metadata": {},
   "outputs": [],
   "source": [
    "input={\"messages\":[\"hi hello how are you?\"]}"
   ]
  },
  {
   "cell_type": "code",
   "execution_count": 17,
   "id": "44174445",
   "metadata": {},
   "outputs": [
    {
     "data": {
      "text/plain": [
       "{'messages': [HumanMessage(content='hi hello how are you?', additional_kwargs={}, response_metadata={}, id='2ca60946-e9b7-4589-99a3-16cdd79921c7'),\n",
       "  AIMessage(content=\"Hello, I'm just a computer program, so I don't have feelings like humans do, but I'm functioning properly and ready to help with any questions or tasks you have. How can I assist you today?\", additional_kwargs={}, response_metadata={'token_usage': {'completion_tokens': 44, 'prompt_tokens': 41, 'total_tokens': 85, 'completion_time': 0.057238224, 'prompt_time': 0.001876555, 'queue_time': 0.054551445, 'total_time': 0.059114779}, 'model_name': 'llama-3.1-8b-instant', 'system_fingerprint': 'fp_ab04adca7d', 'service_tier': 'on_demand', 'finish_reason': 'stop', 'logprobs': None, 'model_provider': 'groq'}, id='lc_run--21f4fffb-51fe-4581-af03-6aea26c55723-0', usage_metadata={'input_tokens': 41, 'output_tokens': 44, 'total_tokens': 85})]}"
      ]
     },
     "execution_count": 17,
     "metadata": {},
     "output_type": "execute_result"
    }
   ],
   "source": [
    "app.invoke(input)\n"
   ]
  },
  {
   "cell_type": "code",
   "execution_count": 18,
   "id": "b51a1f38",
   "metadata": {},
   "outputs": [
    {
     "name": "stdout",
     "output_type": "stream",
     "text": [
      "Output from Bot Node\n",
      "_______\n",
      "{'messages': [AIMessage(content=\"Hello. I'm functioning properly, thanks for asking. How can I assist you today?\", additional_kwargs={}, response_metadata={'token_usage': {'completion_tokens': 19, 'prompt_tokens': 41, 'total_tokens': 60, 'completion_time': 0.021982626, 'prompt_time': 0.001873645, 'queue_time': 0.050677484, 'total_time': 0.023856271}, 'model_name': 'llama-3.1-8b-instant', 'system_fingerprint': 'fp_ab04adca7d', 'service_tier': 'on_demand', 'finish_reason': 'stop', 'logprobs': None, 'model_provider': 'groq'}, id='lc_run--eab931ee-b7be-4402-9c83-0710cd72e19b-0', usage_metadata={'input_tokens': 41, 'output_tokens': 19, 'total_tokens': 60})]}\n",
      "\n",
      "\n"
     ]
    }
   ],
   "source": [
    "for output in app.stream(input):\n",
    "    for key,value in output.items():\n",
    "        print(f\"Output from {key} Node\")\n",
    "        print(\"_______\")\n",
    "        print(value)\n",
    "        print(\"\\n\")"
   ]
  },
  {
   "cell_type": "code",
   "execution_count": 19,
   "id": "4ce5dc41",
   "metadata": {},
   "outputs": [],
   "source": [
    "@tool\n",
    "def search(query:str):\n",
    "    \"\"\"this is my custom tool for searching a weather\"\"\"\n",
    "    if \"delhi\" in query.lower():\n",
    "        return \"the temp is 45 degree and sunny\"\n",
    "    return \"the temp is 25 degree and cloudy\"\n"
   ]
  },
  {
   "cell_type": "code",
   "execution_count": 20,
   "id": "829fd749",
   "metadata": {},
   "outputs": [
    {
     "data": {
      "text/plain": [
       "'the temp is 25 degree and cloudy'"
      ]
     },
     "execution_count": 20,
     "metadata": {},
     "output_type": "execute_result"
    }
   ],
   "source": [
    "search.invoke(\"what is a tempurature in kashmir?\")\n"
   ]
  },
  {
   "cell_type": "code",
   "execution_count": 21,
   "id": "0e228396",
   "metadata": {},
   "outputs": [
    {
     "data": {
      "text/plain": [
       "'the temp is 45 degree and sunny'"
      ]
     },
     "execution_count": 21,
     "metadata": {},
     "output_type": "execute_result"
    }
   ],
   "source": [
    "search.invoke(\"what is a tempurature in delhi?\")\n"
   ]
  },
  {
   "cell_type": "code",
   "execution_count": 22,
   "id": "d25a89d8",
   "metadata": {},
   "outputs": [],
   "source": [
    "tool = [search]"
   ]
  },
  {
   "cell_type": "code",
   "execution_count": 23,
   "id": "96c6a629",
   "metadata": {},
   "outputs": [],
   "source": [
    "llm_with_tool = llm.bind_tools(tool) #binding the tool with llm "
   ]
  },
  {
   "cell_type": "code",
   "execution_count": 24,
   "id": "ceac2936",
   "metadata": {},
   "outputs": [
    {
     "data": {
      "text/plain": [
       "AIMessage(content='', additional_kwargs={'tool_calls': [{'id': 'vn9bef29a', 'function': {'arguments': '{\"query\":\"delhi weather\"}', 'name': 'search'}, 'type': 'function'}]}, response_metadata={'token_usage': {'completion_tokens': 15, 'prompt_tokens': 224, 'total_tokens': 239, 'completion_time': 0.014402754, 'prompt_time': 0.012192453, 'queue_time': 0.049089597, 'total_time': 0.026595207}, 'model_name': 'llama-3.1-8b-instant', 'system_fingerprint': 'fp_33e8adf159', 'service_tier': 'on_demand', 'finish_reason': 'tool_calls', 'logprobs': None, 'model_provider': 'groq'}, id='lc_run--9d15a460-6c6d-4e97-afe4-0eafb4a3970f-0', tool_calls=[{'name': 'search', 'args': {'query': 'delhi weather'}, 'id': 'vn9bef29a', 'type': 'tool_call'}], usage_metadata={'input_tokens': 224, 'output_tokens': 15, 'total_tokens': 239})"
      ]
     },
     "execution_count": 24,
     "metadata": {},
     "output_type": "execute_result"
    }
   ],
   "source": [
    "llm_with_tool.invoke('what is the weather in delhi?') #based on his intelligence llm is not giving the answer by themself instead it is passing the query the tool"
   ]
  },
  {
   "cell_type": "code",
   "execution_count": 25,
   "id": "8a4362c1",
   "metadata": {},
   "outputs": [],
   "source": [
    "response = llm_with_tool.invoke('what is the weather in delhi?')"
   ]
  },
  {
   "cell_type": "code",
   "execution_count": 26,
   "id": "d43020ea",
   "metadata": {},
   "outputs": [
    {
     "data": {
      "text/plain": [
       "[{'name': 'search',\n",
       "  'args': {'query': 'delhi weather'},\n",
       "  'id': 'gn95b4hpm',\n",
       "  'type': 'tool_call'}]"
      ]
     },
     "execution_count": 26,
     "metadata": {},
     "output_type": "execute_result"
    }
   ],
   "source": [
    "response.tool_calls #here we can see the query is passed to the tool by llm based on his intelligence"
   ]
  },
  {
   "cell_type": "code",
   "execution_count": 27,
   "id": "8965bc9f",
   "metadata": {},
   "outputs": [],
   "source": [
    "def call_model(state:MessagesState):\n",
    "    question=state[\"messages\"]\n",
    "    response=llm_with_tool.invoke(question)\n",
    "    return {\"messages\":[response]}"
   ]
  },
  {
   "cell_type": "code",
   "execution_count": 28,
   "id": "90296adc",
   "metadata": {},
   "outputs": [],
   "source": [
    "\n",
    "input={\"messages\":[\"what is a weather in delhi?\"]}\n"
   ]
  },
  {
   "cell_type": "code",
   "execution_count": 29,
   "id": "8f5d42bc",
   "metadata": {},
   "outputs": [],
   "source": [
    "response = call_model(input)"
   ]
  },
  {
   "cell_type": "code",
   "execution_count": 30,
   "id": "f25681ee",
   "metadata": {},
   "outputs": [
    {
     "data": {
      "text/plain": [
       "{'messages': [AIMessage(content='', additional_kwargs={'tool_calls': [{'id': 'rb9v5pz2v', 'function': {'arguments': '{\"query\":\"weather in delhi\"}', 'name': 'search'}, 'type': 'function'}]}, response_metadata={'token_usage': {'completion_tokens': 16, 'prompt_tokens': 224, 'total_tokens': 240, 'completion_time': 0.023236989, 'prompt_time': 0.012504632, 'queue_time': 0.058296958, 'total_time': 0.035741621}, 'model_name': 'llama-3.1-8b-instant', 'system_fingerprint': 'fp_ab04adca7d', 'service_tier': 'on_demand', 'finish_reason': 'tool_calls', 'logprobs': None, 'model_provider': 'groq'}, id='lc_run--56c17b1f-5e61-4dbe-8ef9-58d607fa5642-0', tool_calls=[{'name': 'search', 'args': {'query': 'weather in delhi'}, 'id': 'rb9v5pz2v', 'type': 'tool_call'}], usage_metadata={'input_tokens': 224, 'output_tokens': 16, 'total_tokens': 240})]}"
      ]
     },
     "execution_count": 30,
     "metadata": {},
     "output_type": "execute_result"
    }
   ],
   "source": [
    "response"
   ]
  },
  {
   "cell_type": "code",
   "execution_count": 31,
   "id": "9ed94916",
   "metadata": {},
   "outputs": [
    {
     "data": {
      "text/plain": [
       "''"
      ]
     },
     "execution_count": 31,
     "metadata": {},
     "output_type": "execute_result"
    }
   ],
   "source": [
    "response[\"messages\"][-1].content"
   ]
  },
  {
   "cell_type": "code",
   "execution_count": 32,
   "id": "99dba8d9",
   "metadata": {},
   "outputs": [
    {
     "data": {
      "text/plain": [
       "[{'name': 'search',\n",
       "  'args': {'query': 'weather in delhi'},\n",
       "  'id': 'rb9v5pz2v',\n",
       "  'type': 'tool_call'}]"
      ]
     },
     "execution_count": 32,
     "metadata": {},
     "output_type": "execute_result"
    }
   ],
   "source": [
    "response[\"messages\"][-1].tool_calls\n"
   ]
  },
  {
   "cell_type": "code",
   "execution_count": 33,
   "id": "b3f524d5",
   "metadata": {},
   "outputs": [],
   "source": [
    "#creating the router here & now whatever will come from call_model router funtion will redirect this to the appropriate tool\n",
    "def router(state:MessagesState):\n",
    "    message=state[\"messages\"]\n",
    "    last_message=message[-1]\n",
    "    if last_message.tool_calls:\n",
    "        return \"tools\"\n",
    "    return END"
   ]
  },
  {
   "cell_type": "code",
   "execution_count": 34,
   "id": "92736f7d",
   "metadata": {},
   "outputs": [
    {
     "data": {
      "text/plain": [
       "[StructuredTool(name='search', description='this is my custom tool for searching a weather', args_schema=<class 'langchain_core.utils.pydantic.search'>, func=<function search at 0x000001E196A657E0>)]"
      ]
     },
     "execution_count": 34,
     "metadata": {},
     "output_type": "execute_result"
    }
   ],
   "source": [
    "tool"
   ]
  },
  {
   "cell_type": "code",
   "execution_count": 35,
   "id": "1eaa50bd",
   "metadata": {},
   "outputs": [],
   "source": [
    "# Option 1 (latest versions)\n",
    "\n",
    "\n",
    "# Option 2 (some versions)\n",
    "#from langgraph.nodes import ToolNode\n",
    "\n",
    "# Option 3 (older)\n",
    "#from langgraph.prebuilt import ToolNode\n"
   ]
  },
  {
   "cell_type": "code",
   "execution_count": 36,
   "id": "217d2c44",
   "metadata": {},
   "outputs": [],
   "source": [
    "tool_node=ToolNode(tool) # to add the tool in the workflow we have to convert it to a toolnode"
   ]
  },
  {
   "cell_type": "code",
   "execution_count": 37,
   "id": "ed513d10",
   "metadata": {},
   "outputs": [
    {
     "data": {
      "text/plain": [
       "tools(tags=None, recurse=True, explode_args=False, func_accepts={'config': ('N/A', <class 'inspect._empty'>), 'runtime': ('N/A', <class 'inspect._empty'>)}, _tools_by_name={'search': StructuredTool(name='search', description='this is my custom tool for searching a weather', args_schema=<class 'langchain_core.utils.pydantic.search'>, func=<function search at 0x000001E196A657E0>)}, _tool_to_state_args={'search': {}}, _tool_to_store_arg={'search': None}, _tool_to_runtime_arg={'search': None}, _handle_tool_errors=<function _default_handle_tool_errors at 0x000001E196A0D7E0>, _messages_key='messages', _wrap_tool_call=None, _awrap_tool_call=None)"
      ]
     },
     "execution_count": 37,
     "metadata": {},
     "output_type": "execute_result"
    }
   ],
   "source": [
    "tool_node"
   ]
  },
  {
   "cell_type": "code",
   "execution_count": 38,
   "id": "0a269027",
   "metadata": {},
   "outputs": [],
   "source": [
    "workflow1=StateGraph(MessagesState)\n"
   ]
  },
  {
   "cell_type": "code",
   "execution_count": 39,
   "id": "bea4109d",
   "metadata": {},
   "outputs": [
    {
     "data": {
      "text/plain": [
       "<langgraph.graph.state.StateGraph at 0x1e1967f9750>"
      ]
     },
     "execution_count": 39,
     "metadata": {},
     "output_type": "execute_result"
    }
   ],
   "source": [
    "workflow1.add_node(\"llmwithtool\",call_model)\n",
    "\n",
    "workflow1.add_node(\"mytools\",tool_node)\n",
    "\n",
    "workflow1.add_edge(START,\"llmwithtool\")\n",
    "\n",
    "workflow1.add_conditional_edges(\"llmwithtool\",\n",
    "                                router,\n",
    "                                {\"tools\":\"mytools\",\n",
    "                                 END:END})"
   ]
  },
  {
   "cell_type": "code",
   "execution_count": 40,
   "id": "52b6d5ce",
   "metadata": {},
   "outputs": [],
   "source": [
    "app1=workflow1.compile()\n"
   ]
  },
  {
   "cell_type": "code",
   "execution_count": 41,
   "id": "729dc1a8",
   "metadata": {},
   "outputs": [
    {
     "data": {
      "image/png": "[encoded data removed]",
      "text/plain": [
       "<IPython.core.display.Image object>"
      ]
     },
     "metadata": {},
     "output_type": "display_data"
    }
   ],
   "source": [
    "from IPython.display import Image, display\n",
    "display(Image(app1.get_graph().draw_mermaid_png()))\n"
   ]
  },
  {
   "cell_type": "code",
   "execution_count": 42,
   "id": "70e50b66",
   "metadata": {},
   "outputs": [],
   "source": [
    "response=app1.invoke({\"messages\":[\"what is a weather in bengraluru?\"]})\n"
   ]
  },
  {
   "cell_type": "code",
   "execution_count": 43,
   "id": "7ac913c1",
   "metadata": {},
   "outputs": [
    {
     "data": {
      "text/plain": [
       "'the temp is 25 degree and cloudy'"
      ]
     },
     "execution_count": 43,
     "metadata": {},
     "output_type": "execute_result"
    }
   ],
   "source": [
    "response[\"messages\"][-1].content\n"
   ]
  },
  {
   "cell_type": "code",
   "execution_count": 44,
   "id": "8c6060dc",
   "metadata": {},
   "outputs": [
    {
     "data": {
      "text/plain": [
       "{'messages': [HumanMessage(content='what is a weather in delhi?', additional_kwargs={}, response_metadata={}, id='1535fbf4-cb1f-45bf-ae54-a77d147e435b'),\n",
       "  AIMessage(content='', additional_kwargs={'tool_calls': [{'id': '0yppb0rvh', 'function': {'arguments': '{\"query\":\"delhi weather\"}', 'name': 'search'}, 'type': 'function'}]}, response_metadata={'token_usage': {'completion_tokens': 15, 'prompt_tokens': 224, 'total_tokens': 239, 'completion_time': 0.02315787, 'prompt_time': 0.012223826, 'queue_time': 0.050114934, 'total_time': 0.035381696}, 'model_name': 'llama-3.1-8b-instant', 'system_fingerprint': 'fp_ab04adca7d', 'service_tier': 'on_demand', 'finish_reason': 'tool_calls', 'logprobs': None, 'model_provider': 'groq'}, id='lc_run--d2963035-9953-43c1-a0f4-04ab15930e26-0', tool_calls=[{'name': 'search', 'args': {'query': 'delhi weather'}, 'id': '0yppb0rvh', 'type': 'tool_call'}], usage_metadata={'input_tokens': 224, 'output_tokens': 15, 'total_tokens': 239}),\n",
       "  ToolMessage(content='the temp is 45 degree and sunny', name='search', id='239ce826-6a3b-4e0e-87e7-48172d095543', tool_call_id='0yppb0rvh')]}"
      ]
     },
     "execution_count": 44,
     "metadata": {},
     "output_type": "execute_result"
    }
   ],
   "source": [
    "app1.invoke({\"messages\":[\"what is a weather in delhi?\"]})\n"
   ]
  },
  {
   "cell_type": "code",
   "execution_count": 45,
   "id": "4f1a5195",
   "metadata": {},
   "outputs": [
    {
     "data": {
      "text/plain": [
       "{'messages': [HumanMessage(content='hi how are you?', additional_kwargs={}, response_metadata={}, id='c5ec079e-a8f5-4a5d-8394-7f023188450e'),\n",
       "  AIMessage(content=\"I'm functioning properly, thanks for asking. What can I assist you with today?\", additional_kwargs={}, response_metadata={'token_usage': {'completion_tokens': 18, 'prompt_tokens': 221, 'total_tokens': 239, 'completion_time': 0.033329699, 'prompt_time': 0.012092723, 'queue_time': 0.051305747, 'total_time': 0.045422422}, 'model_name': 'llama-3.1-8b-instant', 'system_fingerprint': 'fp_33e8adf159', 'service_tier': 'on_demand', 'finish_reason': 'stop', 'logprobs': None, 'model_provider': 'groq'}, id='lc_run--b92d039d-ed33-49b9-b933-b61aba2d26c9-0', usage_metadata={'input_tokens': 221, 'output_tokens': 18, 'total_tokens': 239})]}"
      ]
     },
     "execution_count": 45,
     "metadata": {},
     "output_type": "execute_result"
    }
   ],
   "source": [
    "app1.invoke({\"messages\":[\"hi how are you?\"]})\n"
   ]
  },
  {
   "cell_type": "code",
   "execution_count": 47,
   "id": "6b5bcddb",
   "metadata": {},
   "outputs": [
    {
     "name": "stderr",
     "output_type": "stream",
     "text": [
      "Adding an edge to a graph that has already been compiled. This will not be reflected in the compiled graph.\n"
     ]
    },
    {
     "data": {
      "text/plain": [
       "<langgraph.graph.state.StateGraph at 0x1e1967f9750>"
      ]
     },
     "execution_count": 47,
     "metadata": {},
     "output_type": "execute_result"
    }
   ],
   "source": [
    "workflow1.add_edge(\"mytools\",\"llmwithtool\")"
   ]
  },
  {
   "cell_type": "code",
   "execution_count": 48,
   "id": "22947e25",
   "metadata": {},
   "outputs": [],
   "source": [
    "app3=workflow1.compile()\n"
   ]
  },
  {
   "cell_type": "code",
   "execution_count": 49,
   "id": "2bd7a593",
   "metadata": {},
   "outputs": [
    {
     "data": {
      "image/png": "[encoded data removed]",
      "text/plain": [
       "<IPython.core.display.Image object>"
      ]
     },
     "metadata": {},
     "output_type": "display_data"
    }
   ],
   "source": [
    "from IPython.display import Image, display\n",
    "display(Image(app3.get_graph().draw_mermaid_png()))\n"
   ]
  },
  {
   "cell_type": "code",
   "execution_count": 51,
   "id": "2af1f055",
   "metadata": {},
   "outputs": [
    {
     "name": "stdout",
     "output_type": "stream",
     "text": [
      "here is output from llmwithtool\n",
      "_______\n",
      "{'messages': [AIMessage(content='', additional_kwargs={'tool_calls': [{'id': 'p4ceqknsr', 'function': {'arguments': '{\"query\":\"new delhi weather\"}', 'name': 'search'}, 'type': 'function'}]}, response_metadata={'token_usage': {'completion_tokens': 16, 'prompt_tokens': 225, 'total_tokens': 241, 'completion_time': 0.024056702, 'prompt_time': 0.012437844, 'queue_time': 0.051806756, 'total_time': 0.036494546}, 'model_name': 'llama-3.1-8b-instant', 'system_fingerprint': 'fp_33e8adf159', 'service_tier': 'on_demand', 'finish_reason': 'tool_calls', 'logprobs': None, 'model_provider': 'groq'}, id='lc_run--93e151c8-94eb-425c-9e95-dfb1a392f408-0', tool_calls=[{'name': 'search', 'args': {'query': 'new delhi weather'}, 'id': 'p4ceqknsr', 'type': 'tool_call'}], usage_metadata={'input_tokens': 225, 'output_tokens': 16, 'total_tokens': 241})]}\n",
      "\n",
      "\n",
      "here is output from mytools\n",
      "_______\n",
      "{'messages': [ToolMessage(content='the temp is 45 degree and sunny', name='search', id='14dc48ea-4b67-409e-a98c-e5b711855dff', tool_call_id='p4ceqknsr')]}\n",
      "\n",
      "\n",
      "here is output from llmwithtool\n",
      "_______\n",
      "{'messages': [AIMessage(content='', additional_kwargs={'tool_calls': [{'id': '7hk0dsna4', 'function': {'arguments': '{\"query\":\"new delhi temperature\"}', 'name': 'search'}, 'type': 'function'}, {'id': 'mhbgsfzkv', 'function': {'arguments': '{\"query\":\"new delhi weather description\"}', 'name': 'search'}, 'type': 'function'}]}, response_metadata={'token_usage': {'completion_tokens': 32, 'prompt_tokens': 259, 'total_tokens': 291, 'completion_time': 0.034907622, 'prompt_time': 0.014184351, 'queue_time': 0.055076639, 'total_time': 0.049091973}, 'model_name': 'llama-3.1-8b-instant', 'system_fingerprint': 'fp_ab04adca7d', 'service_tier': 'on_demand', 'finish_reason': 'tool_calls', 'logprobs': None, 'model_provider': 'groq'}, id='lc_run--9016e744-6537-4378-aabd-27196790330b-0', tool_calls=[{'name': 'search', 'args': {'query': 'new delhi temperature'}, 'id': '7hk0dsna4', 'type': 'tool_call'}, {'name': 'search', 'args': {'query': 'new delhi weather description'}, 'id': 'mhbgsfzkv', 'type': 'tool_call'}], usage_metadata={'input_tokens': 259, 'output_tokens': 32, 'total_tokens': 291})]}\n",
      "\n",
      "\n",
      "here is output from mytools\n",
      "_______\n",
      "{'messages': [ToolMessage(content='the temp is 45 degree and sunny', name='search', id='2f37aef5-5bf2-4534-bf25-7a9b46a5d3f5', tool_call_id='7hk0dsna4'), ToolMessage(content='the temp is 45 degree and sunny', name='search', id='b9a1b20c-36d1-4752-aa08-a937e6a43c79', tool_call_id='mhbgsfzkv')]}\n",
      "\n",
      "\n",
      "here is output from llmwithtool\n",
      "_______\n",
      "{'messages': [AIMessage(content='', additional_kwargs={'tool_calls': [{'id': 'fxrzaww16', 'function': {'arguments': '{\"query\":\"new delhi humidity\"}', 'name': 'search'}, 'type': 'function'}, {'id': 'p8xycrchj', 'function': {'arguments': '{\"query\":\"new delhi wind\"}', 'name': 'search'}, 'type': 'function'}]}, response_metadata={'token_usage': {'completion_tokens': 31, 'prompt_tokens': 323, 'total_tokens': 354, 'completion_time': 0.039016258, 'prompt_time': 0.02475843, 'queue_time': 0.05759984, 'total_time': 0.063774688}, 'model_name': 'llama-3.1-8b-instant', 'system_fingerprint': 'fp_e32974efee', 'service_tier': 'on_demand', 'finish_reason': 'tool_calls', 'logprobs': None, 'model_provider': 'groq'}, id='lc_run--89bea9d8-7ca8-460c-a41b-fe7b726269ee-0', tool_calls=[{'name': 'search', 'args': {'query': 'new delhi humidity'}, 'id': 'fxrzaww16', 'type': 'tool_call'}, {'name': 'search', 'args': {'query': 'new delhi wind'}, 'id': 'p8xycrchj', 'type': 'tool_call'}], usage_metadata={'input_tokens': 323, 'output_tokens': 31, 'total_tokens': 354})]}\n",
      "\n",
      "\n",
      "here is output from mytools\n",
      "_______\n",
      "{'messages': [ToolMessage(content='the temp is 45 degree and sunny', name='search', id='94ca4ce2-aeca-4efd-a128-b8aa3fbb306c', tool_call_id='fxrzaww16'), ToolMessage(content='the temp is 45 degree and sunny', name='search', id='381b0285-f329-4808-b324-5bf0ee5ff74b', tool_call_id='p8xycrchj')]}\n",
      "\n",
      "\n",
      "here is output from llmwithtool\n",
      "_______\n",
      "{'messages': [AIMessage(content='', additional_kwargs={'tool_calls': [{'id': 'v8yhgjkm2', 'function': {'arguments': '{\"query\":\"new delhi weather forecast 24 hours\"}', 'name': 'search'}, 'type': 'function'}, {'id': '96mvsmw1h', 'function': {'arguments': '{\"query\":\"new delhi weather forecast 48 hours\"}', 'name': 'search'}, 'type': 'function'}]}, response_metadata={'token_usage': {'completion_tokens': 39, 'prompt_tokens': 386, 'total_tokens': 425, 'completion_time': 0.040751303, 'prompt_time': 0.023821394, 'queue_time': 0.055333065, 'total_time': 0.064572697}, 'model_name': 'llama-3.1-8b-instant', 'system_fingerprint': 'fp_e32974efee', 'service_tier': 'on_demand', 'finish_reason': 'tool_calls', 'logprobs': None, 'model_provider': 'groq'}, id='lc_run--9efe2641-6ca6-4b0a-a796-e4bf142aeeef-0', tool_calls=[{'name': 'search', 'args': {'query': 'new delhi weather forecast 24 hours'}, 'id': 'v8yhgjkm2', 'type': 'tool_call'}, {'name': 'search', 'args': {'query': 'new delhi weather forecast 48 hours'}, 'id': '96mvsmw1h', 'type': 'tool_call'}], usage_metadata={'input_tokens': 386, 'output_tokens': 39, 'total_tokens': 425})]}\n",
      "\n",
      "\n",
      "here is output from mytools\n",
      "_______\n",
      "{'messages': [ToolMessage(content='the temp is 45 degree and sunny', name='search', id='a1cd94b6-3339-43bf-8ecd-4ca28697aaf8', tool_call_id='v8yhgjkm2'), ToolMessage(content='the temp is 45 degree and sunny', name='search', id='1f12b68a-d59a-4b3f-94c7-9e9e4ba83522', tool_call_id='96mvsmw1h')]}\n",
      "\n",
      "\n",
      "here is output from llmwithtool\n",
      "_______\n",
      "{'messages': [AIMessage(content='', additional_kwargs={'tool_calls': [{'id': 'h6ad56bzk', 'function': {'arguments': '{\"query\":\"new delhi weather forecast 7 days\"}', 'name': 'search'}, 'type': 'function'}]}, response_metadata={'token_usage': {'completion_tokens': 20, 'prompt_tokens': 457, 'total_tokens': 477, 'completion_time': 0.023770772, 'prompt_time': 0.030647548, 'queue_time': 0.050190372, 'total_time': 0.05441832}, 'model_name': 'llama-3.1-8b-instant', 'system_fingerprint': 'fp_33e8adf159', 'service_tier': 'on_demand', 'finish_reason': 'tool_calls', 'logprobs': None, 'model_provider': 'groq'}, id='lc_run--3dbfb239-0b3c-4107-9d73-f88940f4f337-0', tool_calls=[{'name': 'search', 'args': {'query': 'new delhi weather forecast 7 days'}, 'id': 'h6ad56bzk', 'type': 'tool_call'}], usage_metadata={'input_tokens': 457, 'output_tokens': 20, 'total_tokens': 477})]}\n",
      "\n",
      "\n",
      "here is output from mytools\n",
      "_______\n",
      "{'messages': [ToolMessage(content='the temp is 45 degree and sunny', name='search', id='42bbc9c1-2950-4b66-b17f-ea616d308459', tool_call_id='h6ad56bzk')]}\n",
      "\n",
      "\n",
      "here is output from llmwithtool\n",
      "_______\n",
      "{'messages': [AIMessage(content='It seems like I got stuck in a loop with the same response. Let me try to get a more accurate forecast for you.\\n\\n', additional_kwargs={'tool_calls': [{'id': 'vhss4ttwy', 'function': {'arguments': '{\"query\":\"new delhi weather forecast\"}', 'name': 'search'}, 'type': 'function'}]}, response_metadata={'token_usage': {'completion_tokens': 43, 'prompt_tokens': 495, 'total_tokens': 538, 'completion_time': 0.08344446, 'prompt_time': 0.028825717, 'queue_time': 0.056199763, 'total_time': 0.112270177}, 'model_name': 'llama-3.1-8b-instant', 'system_fingerprint': 'fp_7b3cfae3af', 'service_tier': 'on_demand', 'finish_reason': 'tool_calls', 'logprobs': None, 'model_provider': 'groq'}, id='lc_run--5c7458b0-7595-48ed-b48a-488db68aea87-0', tool_calls=[{'name': 'search', 'args': {'query': 'new delhi weather forecast'}, 'id': 'vhss4ttwy', 'type': 'tool_call'}], usage_metadata={'input_tokens': 495, 'output_tokens': 43, 'total_tokens': 538})]}\n",
      "\n",
      "\n",
      "here is output from mytools\n",
      "_______\n",
      "{'messages': [ToolMessage(content='the temp is 45 degree and sunny', name='search', id='a2f5e310-a0c3-47bb-a183-3c2bc0ed88b9', tool_call_id='vhss4ttwy')]}\n",
      "\n",
      "\n",
      "here is output from llmwithtool\n",
      "_______\n",
      "{'messages': [AIMessage(content=\"It seems like the tool is not providing any updates, so I'm just going to stop here.\", additional_kwargs={}, response_metadata={'token_usage': {'completion_tokens': 21, 'prompt_tokens': 530, 'total_tokens': 551, 'completion_time': 0.046083072, 'prompt_time': 0.036392597, 'queue_time': 0.055939602, 'total_time': 0.082475669}, 'model_name': 'llama-3.1-8b-instant', 'system_fingerprint': 'fp_e32974efee', 'service_tier': 'on_demand', 'finish_reason': 'stop', 'logprobs': None, 'model_provider': 'groq'}, id='lc_run--14e0f4a1-f9b8-4ad8-a88a-84eec4459925-0', usage_metadata={'input_tokens': 530, 'output_tokens': 21, 'total_tokens': 551})]}\n",
      "\n",
      "\n"
     ]
    }
   ],
   "source": [
    "for output in app3.stream({\"messages\":[\"what is a weather in new delhi?\"]}):\n",
    "    for key,value in output.items():\n",
    "        print(f\"here is output from {key}\")\n",
    "        print(\"_______\")\n",
    "        print(value)\n",
    "        print(\"\\n\")\n",
    "    "
   ]
  },
  {
   "cell_type": "code",
   "execution_count": 52,
   "id": "ae799d8c",
   "metadata": {},
   "outputs": [],
   "source": [
    "from langgraph.checkpoint.memory import MemorySaver\n"
   ]
  },
  {
   "cell_type": "code",
   "execution_count": 53,
   "id": "541840b1",
   "metadata": {},
   "outputs": [],
   "source": [
    "memory=MemorySaver()"
   ]
  },
  {
   "cell_type": "code",
   "execution_count": 55,
   "id": "c071f317",
   "metadata": {},
   "outputs": [
    {
     "data": {
      "text/plain": [
       "<langgraph.graph.state.StateGraph at 0x1e1994e6590>"
      ]
     },
     "execution_count": 55,
     "metadata": {},
     "output_type": "execute_result"
    }
   ],
   "source": [
    "workflow3=StateGraph(MessagesState)\n",
    "\n",
    "workflow3.add_node(\"llmwithtool\",call_model)\n",
    "\n",
    "workflow3.add_node(\"mytools\",tool_node)\n",
    "\n",
    "workflow3.add_edge(START,\"llmwithtool\")\n",
    "\n",
    "workflow3.add_conditional_edges(\"llmwithtool\",\n",
    "                                router,\n",
    "                                {\"tools\":\"mytools\",\n",
    "                                 END:END})\n",
    "\n",
    "workflow3.add_edge(\"mytools\",\"llmwithtool\")"
   ]
  },
  {
   "cell_type": "code",
   "execution_count": null,
   "id": "6da5a786",
   "metadata": {},
   "outputs": [],
   "source": [
    "app4=workflow3.compile(checkpointer=memory) # we \n"
   ]
  },
  {
   "cell_type": "code",
   "execution_count": 57,
   "id": "028c9c99",
   "metadata": {},
   "outputs": [
    {
     "data": {
      "image/png": "[encoded data removed]",
      "text/plain": [
       "<IPython.core.display.Image object>"
      ]
     },
     "metadata": {},
     "output_type": "display_data"
    }
   ],
   "source": [
    "from IPython.display import Image, display\n",
    "display(Image(app4.get_graph().draw_mermaid_png()))"
   ]
  },
  {
   "cell_type": "code",
   "execution_count": 58,
   "id": "3477dabf",
   "metadata": {},
   "outputs": [],
   "source": [
    "config={\"configurable\": {\"thread_id\": \"1\"}}\n"
   ]
  },
  {
   "cell_type": "code",
   "execution_count": 59,
   "id": "e71c3a8c",
   "metadata": {},
   "outputs": [],
   "source": [
    "events=app4.stream(\n",
    "    {\"messages\":[\"what is a weather in new delhi?\"]},config=config,stream_mode=\"values\"\n",
    "    )"
   ]
  },
  {
   "cell_type": "code",
   "execution_count": 60,
   "id": "56f4ad32",
   "metadata": {},
   "outputs": [
    {
     "name": "stdout",
     "output_type": "stream",
     "text": [
      "================================\u001b[1m Human Message \u001b[0m=================================\n",
      "\n",
      "what is a weather in new delhi?\n",
      "==================================\u001b[1m Ai Message \u001b[0m==================================\n",
      "Tool Calls:\n",
      "  search (9vzy6p45s)\n",
      " Call ID: 9vzy6p45s\n",
      "  Args:\n",
      "    query: new delhi weather\n",
      "=================================\u001b[1m Tool Message \u001b[0m=================================\n",
      "Name: search\n",
      "\n",
      "the temp is 45 degree and sunny\n",
      "==================================\u001b[1m Ai Message \u001b[0m==================================\n",
      "\n",
      "That information cannot be verified, but the function was called successfully.\n"
     ]
    }
   ],
   "source": [
    "for event in events:\n",
    "    event[\"messages\"][-1].pretty_print()\n",
    "    "
   ]
  },
  {
   "cell_type": "code",
   "execution_count": null,
   "id": "57225a7d",
   "metadata": {},
   "outputs": [],
   "source": []
  }
 ],
 "metadata": {
  "kernelspec": {
   "display_name": "Python 3",
   "language": "python",
   "name": "python3"
  },
  "language_info": {
   "codemirror_mode": {
    "name": "ipython",
    "version": 3
   },
   "file_extension": ".py",
   "mimetype": "text/x-python",
   "name": "python",
   "nbconvert_exporter": "python",
   "pygments_lexer": "ipython3",
   "version": "3.10.19"
  }
 },
 "nbformat": 4,
 "nbformat_minor": 5
}
